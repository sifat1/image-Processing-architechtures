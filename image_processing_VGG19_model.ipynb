{
  "cells": [
    {
      "cell_type": "code",
      "execution_count": 1,
      "metadata": {
        "colab": {
          "base_uri": "https://localhost:8080/"
        },
        "id": "HWEV54ilZ_5K",
        "outputId": "0db8fbb3-ba70-4bea-8550-467959791824"
      },
      "outputs": [
        {
          "output_type": "stream",
          "name": "stdout",
          "text": [
            "Mounted at /content/drive\n"
          ]
        }
      ],
      "source": [
        "\n",
        "import os\n",
        "#if you are using google colab. first mount google drive to your ipynb. Othewise comment out this line of code.\n",
        "from google.colab import drive\n",
        "drive.mount(\"/content/drive\")"
      ]
    },
    {
      "cell_type": "code",
      "execution_count": 2,
      "metadata": {
        "id": "Sp13ApNirH59"
      },
      "outputs": [],
      "source": [
        "#used for showing progress\n",
        "import tqdm"
      ]
    },
    {
      "cell_type": "markdown",
      "metadata": {
        "id": "1Bk0fDp5_bNa"
      },
      "source": [
        "#### Use This only if you have all files under one folder (no train test seperate folder."
      ]
    },
    {
      "cell_type": "code",
      "execution_count": 3,
      "metadata": {
        "id": "q6mExOkyfAL9"
      },
      "outputs": [],
      "source": [
        "# path of data directory\n",
        "training_dir = \"/content/drive/MyDrive/Colab Notebooks/Image Processing/keukomia/Original\"\n",
        "img_dir_list = os.listdir(training_dir)\n",
        "\n",
        "# list file address and class\n",
        "DATA_DF = []\n",
        "for img_dir in img_dir_list:\n",
        "  file_dir = os.listdir(training_dir+\"/\"+img_dir)\n",
        "  for file_name in file_dir:\n",
        "    DATA_DF.append([training_dir+\"/\"+img_dir+\"/\"+file_name,img_dir])"
      ]
    },
    {
      "cell_type": "code",
      "execution_count": 4,
      "metadata": {
        "colab": {
          "base_uri": "https://localhost:8080/",
          "height": 206
        },
        "id": "jgdhxhs7j7Df",
        "outputId": "f80b01ca-fa16-4534-9b31-582b645186e3"
      },
      "outputs": [
        {
          "output_type": "execute_result",
          "data": {
            "text/html": [
              "\n",
              "  <div id=\"df-06af3317-4abe-47b1-be3f-fa4304ad656b\">\n",
              "    <div class=\"colab-df-container\">\n",
              "      <div>\n",
              "<style scoped>\n",
              "    .dataframe tbody tr th:only-of-type {\n",
              "        vertical-align: middle;\n",
              "    }\n",
              "\n",
              "    .dataframe tbody tr th {\n",
              "        vertical-align: top;\n",
              "    }\n",
              "\n",
              "    .dataframe thead th {\n",
              "        text-align: right;\n",
              "    }\n",
              "</style>\n",
              "<table border=\"1\" class=\"dataframe\">\n",
              "  <thead>\n",
              "    <tr style=\"text-align: right;\">\n",
              "      <th></th>\n",
              "      <th>file_name</th>\n",
              "      <th>class</th>\n",
              "    </tr>\n",
              "  </thead>\n",
              "  <tbody>\n",
              "    <tr>\n",
              "      <th>0</th>\n",
              "      <td>/content/drive/MyDrive/Colab Notebooks/Image P...</td>\n",
              "      <td>Pre</td>\n",
              "    </tr>\n",
              "    <tr>\n",
              "      <th>1</th>\n",
              "      <td>/content/drive/MyDrive/Colab Notebooks/Image P...</td>\n",
              "      <td>Pre</td>\n",
              "    </tr>\n",
              "    <tr>\n",
              "      <th>2</th>\n",
              "      <td>/content/drive/MyDrive/Colab Notebooks/Image P...</td>\n",
              "      <td>Pre</td>\n",
              "    </tr>\n",
              "    <tr>\n",
              "      <th>3</th>\n",
              "      <td>/content/drive/MyDrive/Colab Notebooks/Image P...</td>\n",
              "      <td>Pre</td>\n",
              "    </tr>\n",
              "    <tr>\n",
              "      <th>4</th>\n",
              "      <td>/content/drive/MyDrive/Colab Notebooks/Image P...</td>\n",
              "      <td>Pre</td>\n",
              "    </tr>\n",
              "  </tbody>\n",
              "</table>\n",
              "</div>\n",
              "      <button class=\"colab-df-convert\" onclick=\"convertToInteractive('df-06af3317-4abe-47b1-be3f-fa4304ad656b')\"\n",
              "              title=\"Convert this dataframe to an interactive table.\"\n",
              "              style=\"display:none;\">\n",
              "        \n",
              "  <svg xmlns=\"http://www.w3.org/2000/svg\" height=\"24px\"viewBox=\"0 0 24 24\"\n",
              "       width=\"24px\">\n",
              "    <path d=\"M0 0h24v24H0V0z\" fill=\"none\"/>\n",
              "    <path d=\"M18.56 5.44l.94 2.06.94-2.06 2.06-.94-2.06-.94-.94-2.06-.94 2.06-2.06.94zm-11 1L8.5 8.5l.94-2.06 2.06-.94-2.06-.94L8.5 2.5l-.94 2.06-2.06.94zm10 10l.94 2.06.94-2.06 2.06-.94-2.06-.94-.94-2.06-.94 2.06-2.06.94z\"/><path d=\"M17.41 7.96l-1.37-1.37c-.4-.4-.92-.59-1.43-.59-.52 0-1.04.2-1.43.59L10.3 9.45l-7.72 7.72c-.78.78-.78 2.05 0 2.83L4 21.41c.39.39.9.59 1.41.59.51 0 1.02-.2 1.41-.59l7.78-7.78 2.81-2.81c.8-.78.8-2.07 0-2.86zM5.41 20L4 18.59l7.72-7.72 1.47 1.35L5.41 20z\"/>\n",
              "  </svg>\n",
              "      </button>\n",
              "      \n",
              "  <style>\n",
              "    .colab-df-container {\n",
              "      display:flex;\n",
              "      flex-wrap:wrap;\n",
              "      gap: 12px;\n",
              "    }\n",
              "\n",
              "    .colab-df-convert {\n",
              "      background-color: #E8F0FE;\n",
              "      border: none;\n",
              "      border-radius: 50%;\n",
              "      cursor: pointer;\n",
              "      display: none;\n",
              "      fill: #1967D2;\n",
              "      height: 32px;\n",
              "      padding: 0 0 0 0;\n",
              "      width: 32px;\n",
              "    }\n",
              "\n",
              "    .colab-df-convert:hover {\n",
              "      background-color: #E2EBFA;\n",
              "      box-shadow: 0px 1px 2px rgba(60, 64, 67, 0.3), 0px 1px 3px 1px rgba(60, 64, 67, 0.15);\n",
              "      fill: #174EA6;\n",
              "    }\n",
              "\n",
              "    [theme=dark] .colab-df-convert {\n",
              "      background-color: #3B4455;\n",
              "      fill: #D2E3FC;\n",
              "    }\n",
              "\n",
              "    [theme=dark] .colab-df-convert:hover {\n",
              "      background-color: #434B5C;\n",
              "      box-shadow: 0px 1px 3px 1px rgba(0, 0, 0, 0.15);\n",
              "      filter: drop-shadow(0px 1px 2px rgba(0, 0, 0, 0.3));\n",
              "      fill: #FFFFFF;\n",
              "    }\n",
              "  </style>\n",
              "\n",
              "      <script>\n",
              "        const buttonEl =\n",
              "          document.querySelector('#df-06af3317-4abe-47b1-be3f-fa4304ad656b button.colab-df-convert');\n",
              "        buttonEl.style.display =\n",
              "          google.colab.kernel.accessAllowed ? 'block' : 'none';\n",
              "\n",
              "        async function convertToInteractive(key) {\n",
              "          const element = document.querySelector('#df-06af3317-4abe-47b1-be3f-fa4304ad656b');\n",
              "          const dataTable =\n",
              "            await google.colab.kernel.invokeFunction('convertToInteractive',\n",
              "                                                     [key], {});\n",
              "          if (!dataTable) return;\n",
              "\n",
              "          const docLinkHtml = 'Like what you see? Visit the ' +\n",
              "            '<a target=\"_blank\" href=https://colab.research.google.com/notebooks/data_table.ipynb>data table notebook</a>'\n",
              "            + ' to learn more about interactive tables.';\n",
              "          element.innerHTML = '';\n",
              "          dataTable['output_type'] = 'display_data';\n",
              "          await google.colab.output.renderOutput(dataTable, element);\n",
              "          const docLink = document.createElement('div');\n",
              "          docLink.innerHTML = docLinkHtml;\n",
              "          element.appendChild(docLink);\n",
              "        }\n",
              "      </script>\n",
              "    </div>\n",
              "  </div>\n",
              "  "
            ],
            "text/plain": [
              "                                           file_name class\n",
              "0  /content/drive/MyDrive/Colab Notebooks/Image P...   Pre\n",
              "1  /content/drive/MyDrive/Colab Notebooks/Image P...   Pre\n",
              "2  /content/drive/MyDrive/Colab Notebooks/Image P...   Pre\n",
              "3  /content/drive/MyDrive/Colab Notebooks/Image P...   Pre\n",
              "4  /content/drive/MyDrive/Colab Notebooks/Image P...   Pre"
            ]
          },
          "metadata": {},
          "execution_count": 4
        }
      ],
      "source": [
        "# convert to pandas data frame\n",
        "import pandas as pd\n",
        "\n",
        "Train_Data_Frame = pd.DataFrame(DATA_DF, columns = [\"file_name\",\"class\"])\n",
        "Train_Data_Frame.head()"
      ]
    },
    {
      "cell_type": "code",
      "execution_count": 5,
      "metadata": {
        "colab": {
          "base_uri": "https://localhost:8080/",
          "height": 287
        },
        "id": "awpzo-BQ1z-l",
        "outputId": "9c333f26-2de6-44e0-a1c2-8f3dbc9f8797"
      },
      "outputs": [
        {
          "output_type": "execute_result",
          "data": {
            "text/plain": [
              "[]"
            ]
          },
          "metadata": {},
          "execution_count": 5
        },
        {
          "output_type": "display_data",
          "data": {
            "image/png": "[encoded data removed]",
            "text/plain": [
              "<Figure size 432x288 with 1 Axes>"
            ]
          },
          "metadata": {
            "needs_background": "light"
          }
        }
      ],
      "source": [
        "# showing demo of dataset\n",
        "import cv2\n",
        "import matplotlib.pyplot as plt\n",
        "\n",
        "get_file_name = Train_Data_Frame.iloc[0]\n",
        "\n",
        "img = cv2.imread(get_file_name['file_name'])\n",
        "\n",
        "plt.imshow(img)\n",
        "plt.plot()\n"
      ]
    },
    {
      "cell_type": "code",
      "execution_count": 6,
      "metadata": {
        "colab": {
          "base_uri": "https://localhost:8080/",
          "height": 206
        },
        "id": "4F4ye74Jrfrw",
        "outputId": "1973daad-6d2f-4d45-b580-6a512b2f9f15"
      },
      "outputs": [
        {
          "output_type": "execute_result",
          "data": {
            "text/html": [
              "\n",
              "  <div id=\"df-dc18d425-a8ec-435f-b9b3-a25a1330077a\">\n",
              "    <div class=\"colab-df-container\">\n",
              "      <div>\n",
              "<style scoped>\n",
              "    .dataframe tbody tr th:only-of-type {\n",
              "        vertical-align: middle;\n",
              "    }\n",
              "\n",
              "    .dataframe tbody tr th {\n",
              "        vertical-align: top;\n",
              "    }\n",
              "\n",
              "    .dataframe thead th {\n",
              "        text-align: right;\n",
              "    }\n",
              "</style>\n",
              "<table border=\"1\" class=\"dataframe\">\n",
              "  <thead>\n",
              "    <tr style=\"text-align: right;\">\n",
              "      <th></th>\n",
              "      <th>file_name</th>\n",
              "      <th>class</th>\n",
              "    </tr>\n",
              "  </thead>\n",
              "  <tbody>\n",
              "    <tr>\n",
              "      <th>3049</th>\n",
              "      <td>/content/drive/MyDrive/Colab Notebooks/Image P...</td>\n",
              "      <td>Benign</td>\n",
              "    </tr>\n",
              "    <tr>\n",
              "      <th>1660</th>\n",
              "      <td>/content/drive/MyDrive/Colab Notebooks/Image P...</td>\n",
              "      <td>Pro</td>\n",
              "    </tr>\n",
              "    <tr>\n",
              "      <th>2519</th>\n",
              "      <td>/content/drive/MyDrive/Colab Notebooks/Image P...</td>\n",
              "      <td>Early</td>\n",
              "    </tr>\n",
              "    <tr>\n",
              "      <th>362</th>\n",
              "      <td>/content/drive/MyDrive/Colab Notebooks/Image P...</td>\n",
              "      <td>Pre</td>\n",
              "    </tr>\n",
              "    <tr>\n",
              "      <th>2601</th>\n",
              "      <td>/content/drive/MyDrive/Colab Notebooks/Image P...</td>\n",
              "      <td>Early</td>\n",
              "    </tr>\n",
              "  </tbody>\n",
              "</table>\n",
              "</div>\n",
              "      <button class=\"colab-df-convert\" onclick=\"convertToInteractive('df-dc18d425-a8ec-435f-b9b3-a25a1330077a')\"\n",
              "              title=\"Convert this dataframe to an interactive table.\"\n",
              "              style=\"display:none;\">\n",
              "        \n",
              "  <svg xmlns=\"http://www.w3.org/2000/svg\" height=\"24px\"viewBox=\"0 0 24 24\"\n",
              "       width=\"24px\">\n",
              "    <path d=\"M0 0h24v24H0V0z\" fill=\"none\"/>\n",
              "    <path d=\"M18.56 5.44l.94 2.06.94-2.06 2.06-.94-2.06-.94-.94-2.06-.94 2.06-2.06.94zm-11 1L8.5 8.5l.94-2.06 2.06-.94-2.06-.94L8.5 2.5l-.94 2.06-2.06.94zm10 10l.94 2.06.94-2.06 2.06-.94-2.06-.94-.94-2.06-.94 2.06-2.06.94z\"/><path d=\"M17.41 7.96l-1.37-1.37c-.4-.4-.92-.59-1.43-.59-.52 0-1.04.2-1.43.59L10.3 9.45l-7.72 7.72c-.78.78-.78 2.05 0 2.83L4 21.41c.39.39.9.59 1.41.59.51 0 1.02-.2 1.41-.59l7.78-7.78 2.81-2.81c.8-.78.8-2.07 0-2.86zM5.41 20L4 18.59l7.72-7.72 1.47 1.35L5.41 20z\"/>\n",
              "  </svg>\n",
              "      </button>\n",
              "      \n",
              "  <style>\n",
              "    .colab-df-container {\n",
              "      display:flex;\n",
              "      flex-wrap:wrap;\n",
              "      gap: 12px;\n",
              "    }\n",
              "\n",
              "    .colab-df-convert {\n",
              "      background-color: #E8F0FE;\n",
              "      border: none;\n",
              "      border-radius: 50%;\n",
              "      cursor: pointer;\n",
              "      display: none;\n",
              "      fill: #1967D2;\n",
              "      height: 32px;\n",
              "      padding: 0 0 0 0;\n",
              "      width: 32px;\n",
              "    }\n",
              "\n",
              "    .colab-df-convert:hover {\n",
              "      background-color: #E2EBFA;\n",
              "      box-shadow: 0px 1px 2px rgba(60, 64, 67, 0.3), 0px 1px 3px 1px rgba(60, 64, 67, 0.15);\n",
              "      fill: #174EA6;\n",
              "    }\n",
              "\n",
              "    [theme=dark] .colab-df-convert {\n",
              "      background-color: #3B4455;\n",
              "      fill: #D2E3FC;\n",
              "    }\n",
              "\n",
              "    [theme=dark] .colab-df-convert:hover {\n",
              "      background-color: #434B5C;\n",
              "      box-shadow: 0px 1px 3px 1px rgba(0, 0, 0, 0.15);\n",
              "      filter: drop-shadow(0px 1px 2px rgba(0, 0, 0, 0.3));\n",
              "      fill: #FFFFFF;\n",
              "    }\n",
              "  </style>\n",
              "\n",
              "      <script>\n",
              "        const buttonEl =\n",
              "          document.querySelector('#df-dc18d425-a8ec-435f-b9b3-a25a1330077a button.colab-df-convert');\n",
              "        buttonEl.style.display =\n",
              "          google.colab.kernel.accessAllowed ? 'block' : 'none';\n",
              "\n",
              "        async function convertToInteractive(key) {\n",
              "          const element = document.querySelector('#df-dc18d425-a8ec-435f-b9b3-a25a1330077a');\n",
              "          const dataTable =\n",
              "            await google.colab.kernel.invokeFunction('convertToInteractive',\n",
              "                                                     [key], {});\n",
              "          if (!dataTable) return;\n",
              "\n",
              "          const docLinkHtml = 'Like what you see? Visit the ' +\n",
              "            '<a target=\"_blank\" href=https://colab.research.google.com/notebooks/data_table.ipynb>data table notebook</a>'\n",
              "            + ' to learn more about interactive tables.';\n",
              "          element.innerHTML = '';\n",
              "          dataTable['output_type'] = 'display_data';\n",
              "          await google.colab.output.renderOutput(dataTable, element);\n",
              "          const docLink = document.createElement('div');\n",
              "          docLink.innerHTML = docLinkHtml;\n",
              "          element.appendChild(docLink);\n",
              "        }\n",
              "      </script>\n",
              "    </div>\n",
              "  </div>\n",
              "  "
            ],
            "text/plain": [
              "                                              file_name   class\n",
              "3049  /content/drive/MyDrive/Colab Notebooks/Image P...  Benign\n",
              "1660  /content/drive/MyDrive/Colab Notebooks/Image P...     Pro\n",
              "2519  /content/drive/MyDrive/Colab Notebooks/Image P...   Early\n",
              "362   /content/drive/MyDrive/Colab Notebooks/Image P...     Pre\n",
              "2601  /content/drive/MyDrive/Colab Notebooks/Image P...   Early"
            ]
          },
          "metadata": {},
          "execution_count": 6
        }
      ],
      "source": [
        "# using random shuffle for randomize our dataset. \n",
        "from sklearn.utils import shuffle\n",
        "Train_Data_Frame = Train_Data_Frame = shuffle(Train_Data_Frame)\n",
        "\n",
        "Train_Data_Frame.head()"
      ]
    },
    {
      "cell_type": "markdown",
      "metadata": {
        "id": "unswgmwVZ_5f"
      },
      "source": [
        "#### spliting data into trainig and testing"
      ]
    },
    {
      "cell_type": "code",
      "execution_count": 7,
      "metadata": {
        "id": "RFzoQyFquBCd"
      },
      "outputs": [],
      "source": [
        "\n",
        "from sklearn.model_selection import train_test_split\n",
        "Train_Data,Test_Data = train_test_split(Train_Data_Frame,train_size=0.9,shuffle=True,random_state=42)"
      ]
    },
    {
      "cell_type": "markdown",
      "metadata": {
        "id": "do3fk23HZ_5h"
      },
      "source": [
        "#### As we have limited number of image sample, we will use image augmentation technique"
      ]
    },
    {
      "cell_type": "code",
      "execution_count": 8,
      "metadata": {
        "id": "gNDASjLPzUNg"
      },
      "outputs": [],
      "source": [
        "\n",
        "from keras.preprocessing.image import ImageDataGenerator"
      ]
    },
    {
      "cell_type": "code",
      "execution_count": 9,
      "metadata": {
        "id": "pcWI_atJuZTA"
      },
      "outputs": [],
      "source": [
        "Generator = ImageDataGenerator(rescale=1./255,\n",
        "                               zoom_range=0.2,\n",
        "                              shear_range=0.2,\n",
        "                              rotation_range=40,\n",
        "                              horizontal_flip=True,\n",
        "                               fill_mode=\"nearest\",\n",
        "                              validation_split=0.1)"
      ]
    },
    {
      "cell_type": "code",
      "execution_count": 10,
      "metadata": {
        "id": "TukoaO4Qupgy"
      },
      "outputs": [],
      "source": [
        "Test_Generator = ImageDataGenerator(rescale=1./255)"
      ]
    },
    {
      "cell_type": "code",
      "execution_count": 11,
      "metadata": {
        "id": "IWpfoKY_4stj"
      },
      "outputs": [],
      "source": [
        "# image size\n",
        "image_size_tag = (192, 192)"
      ]
    },
    {
      "cell_type": "code",
      "execution_count": 12,
      "metadata": {
        "colab": {
          "base_uri": "https://localhost:8080/"
        },
        "id": "igKm8EMCuwiN",
        "outputId": "c42ba3e6-df15-45f3-bb5a-46be1b2ce2ad"
      },
      "outputs": [
        {
          "output_type": "stream",
          "name": "stdout",
          "text": [
            "Found 2637 validated image filenames belonging to 4 classes.\n"
          ]
        }
      ],
      "source": [
        "Train_IMG_Set = Generator.flow_from_dataframe(dataframe=Train_Data,\n",
        "                                             x_col=\"file_name\",\n",
        "                                             y_col=\"class\",\n",
        "                                            image_size=image_size_tag,\n",
        "                                             class_mode=\"categorical\",\n",
        "                                             subset=\"training\")"
      ]
    },
    {
      "cell_type": "code",
      "execution_count": 13,
      "metadata": {
        "colab": {
          "base_uri": "https://localhost:8080/"
        },
        "id": "y3Jz1cmMxZAF",
        "outputId": "31547070-d2f3-4537-b93a-cf4452681b87"
      },
      "outputs": [
        {
          "output_type": "stream",
          "name": "stdout",
          "text": [
            "Found 293 validated image filenames belonging to 4 classes.\n"
          ]
        }
      ],
      "source": [
        "Validation_IMG_Set = Generator.flow_from_dataframe(dataframe=Train_Data,\n",
        "                                                  x_col=\"file_name\",\n",
        "                                                  y_col=\"class\",\n",
        "                                                  image_size=image_size_tag,\n",
        "                                                  class_mode=\"categorical\",\n",
        "                                                  subset=\"validation\")"
      ]
    },
    {
      "cell_type": "code",
      "execution_count": 14,
      "metadata": {
        "colab": {
          "base_uri": "https://localhost:8080/"
        },
        "id": "wgcEHES7xrWp",
        "outputId": "41733c8a-ce4e-4dac-9285-f12ea452aa9f"
      },
      "outputs": [
        {
          "output_type": "stream",
          "name": "stdout",
          "text": [
            "Found 326 validated image filenames belonging to 4 classes.\n"
          ]
        }
      ],
      "source": [
        "Test_IMG_Set = Generator.flow_from_dataframe(dataframe=Test_Data,\n",
        "                                                 x_col=\"file_name\",\n",
        "                                                 y_col=\"class\",\n",
        "                                                 image_size=image_size_tag,\n",
        "                                                 class_mode=\"categorical\")"
      ]
    },
    {
      "cell_type": "code",
      "execution_count": 15,
      "metadata": {
        "id": "ijuA5gpmy3nG"
      },
      "outputs": [],
      "source": [
        "train_data, test_data = Train_IMG_Set, Validation_IMG_Set"
      ]
    },
    {
      "cell_type": "markdown",
      "metadata": {
        "id": "zLIa9XYfxzo6"
      },
      "source": [
        "#### Use This code if you have seperate folder for training and testing"
      ]
    },
    {
      "cell_type": "code",
      "execution_count": 16,
      "metadata": {
        "colab": {
          "base_uri": "https://localhost:8080/",
          "height": 146
        },
        "id": "bki0UO3ztvdE",
        "outputId": "a80e2890-f6c1-4430-b25d-7c3fbf8625b9"
      },
      "outputs": [
        {
          "output_type": "execute_result",
          "data": {
            "application/vnd.google.colaboratory.intrinsic+json": {
              "type": "string"
            },
            "text/plain": [
              "\"# example of progressively loading images from file\\nfrom keras.preprocessing.image import ImageDataGenerator\\ntrain_generator = ImageDataGenerator(rescale = 1./255,\\n                                    shear_range = 0.2,\\n                                    zoom_range = 0.2,\\n                                    horizontal_flip = True,\\n                                    width_shift_range=0.2,\\n                                    height_shift_range=0.2)\\n\\n#train_generator = ImageDataGenerator(rescale = 1./255)\\n\\ntest_generator = ImageDataGenerator(rescale = 1./255)\\n\\n# prepare an iterators for each dataset\\ntrain_data = train_generator.flow_from_directory('/content/drive/MyDrive/Colab Notebooks/ML/images_train_test_val/train', class_mode='categorical',target_size = (224,224), batch_size=64)\\ntest_data = test_generator.flow_from_directory('/content/drive/MyDrive/Colab Notebooks/ML/images_train_test_val/test', class_mode='categorical',target_size = (224,224), batch_size=64)\\n# confirm the iterator works\\nbatchX, batchy = train_data.next()\\nprint('Batch shape=%s, min=%.3f, max=%.3f' % (batchX.shape, batchX.min(), batchX.max()))\""
            ]
          },
          "metadata": {},
          "execution_count": 16
        }
      ],
      "source": [
        "'''# example of progressively loading images from file\n",
        "from keras.preprocessing.image import ImageDataGenerator\n",
        "train_generator = ImageDataGenerator(rescale = 1./255,\n",
        "                                    shear_range = 0.2,\n",
        "                                    zoom_range = 0.2,\n",
        "                                    horizontal_flip = True,\n",
        "                                    width_shift_range=0.2,\n",
        "                                    height_shift_range=0.2)\n",
        "\n",
        "#train_generator = ImageDataGenerator(rescale = 1./255)\n",
        "\n",
        "test_generator = ImageDataGenerator(rescale = 1./255)\n",
        "\n",
        "# prepare an iterators for each dataset\n",
        "train_data = train_generator.flow_from_directory('/content/drive/MyDrive/Colab Notebooks/ML/images_train_test_val/train', class_mode='categorical',target_size = (224,224), batch_size=64)\n",
        "test_data = test_generator.flow_from_directory('/content/drive/MyDrive/Colab Notebooks/ML/images_train_test_val/test', class_mode='categorical',target_size = (224,224), batch_size=64)\n",
        "# confirm the iterator works\n",
        "batchX, batchy = train_data.next()\n",
        "print('Batch shape=%s, min=%.3f, max=%.3f' % (batchX.shape, batchX.min(), batchX.max()))'''"
      ]
    },
    {
      "cell_type": "markdown",
      "metadata": {
        "id": "Yy3u2ulXyaSd"
      },
      "source": [
        "#### Model Building"
      ]
    },
    {
      "cell_type": "code",
      "execution_count": 17,
      "metadata": {
        "id": "CivflVrG7ZJQ"
      },
      "outputs": [],
      "source": [
        "from tensorflow.keras.models import Sequential\n",
        "from tensorflow.keras.layers import Dense, Conv2D, GlobalAveragePooling2D,Dropout\n",
        "from tensorflow.keras.applications.mobilenet_v2 import MobileNetV2\n",
        "from keras.applications.vgg16 import VGG16\n",
        "from tensorflow.keras.callbacks import EarlyStopping, ReduceLROnPlateau, TensorBoard, ModelCheckpoint\n",
        "import tensorflow as tf"
      ]
    },
    {
      "cell_type": "code",
      "execution_count": 18,
      "metadata": {
        "id": "GqytztOUlr9P"
      },
      "outputs": [],
      "source": [
        "def make_model(model_type):\n",
        "  model = model = Sequential()\n",
        "  model.add(model_type)\n",
        "  for layer in model.layers:\n",
        "    # make this true if you want to train VGG16 model also\n",
        "    layer.trainable = False\n",
        "\n",
        "  model.add(GlobalAveragePooling2D())\n",
        "  model.add(Dense(2048, activation=\"relu\"))\n",
        "  model.add(Dropout(0.15))\n",
        "  model.add(Dense(2048, activation=\"relu\"))\n",
        "  model.add(Dropout(0.15))\n",
        "  model.add(Dense(1024, activation=\"relu\"))\n",
        "  #adding final dense layer\n",
        "  model.add(Dense(4,activation=\"softmax\"))\n",
        "\n",
        "  return model"
      ]
    },
    {
      "cell_type": "code",
      "execution_count": 19,
      "metadata": {
        "colab": {
          "base_uri": "https://localhost:8080/"
        },
        "id": "HnybJOrumRLv",
        "outputId": "6df876c2-b31a-4103-dd47-7aea449026a7"
      },
      "outputs": [
        {
          "output_type": "stream",
          "name": "stdout",
          "text": [
            "Downloading data from https://storage.googleapis.com/tensorflow/keras-applications/vgg19/vgg19_weights_tf_dim_ordering_tf_kernels_notop.h5\n",
            "80142336/80134624 [==============================] - 1s 0us/step\n",
            "80150528/80134624 [==============================] - 1s 0us/step\n",
            "Model: \"sequential\"\n",
            "_________________________________________________________________\n",
            " Layer (type)                Output Shape              Param #   \n",
            "=================================================================\n",
            " vgg19 (Functional)          (None, 7, 7, 512)         20024384  \n",
            "                                                                 \n",
            " global_average_pooling2d (G  (None, 512)              0         \n",
            " lobalAveragePooling2D)                                          \n",
            "                                                                 \n",
            " dense (Dense)               (None, 2048)              1050624   \n",
            "                                                                 \n",
            " dropout (Dropout)           (None, 2048)              0         \n",
            "                                                                 \n",
            " dense_1 (Dense)             (None, 2048)              4196352   \n",
            "                                                                 \n",
            " dropout_1 (Dropout)         (None, 2048)              0         \n",
            "                                                                 \n",
            " dense_2 (Dense)             (None, 1024)              2098176   \n",
            "                                                                 \n",
            " dense_3 (Dense)             (None, 4)                 4100      \n",
            "                                                                 \n",
            "=================================================================\n",
            "Total params: 27,373,636\n",
            "Trainable params: 7,349,252\n",
            "Non-trainable params: 20,024,384\n",
            "_________________________________________________________________\n",
            "None\n"
          ]
        }
      ],
      "source": [
        "model_type = tf.keras.applications.VGG19(weights='imagenet',input_shape=(224, 224, 3), include_top=False)\n",
        "\n",
        "model = make_model(model_type)\n",
        "\n",
        "print(model.summary())"
      ]
    },
    {
      "cell_type": "markdown",
      "metadata": {
        "id": "uB1R49nLZ_5w"
      },
      "source": [
        "#### creating custom function for measuring f1 score"
      ]
    },
    {
      "cell_type": "code",
      "execution_count": null,
      "metadata": {
        "id": "vsfIr83p_vKX"
      },
      "outputs": [],
      "source": [
        "from keras import backend as K\n",
        "\n",
        "def recall_m(y_true, y_pred):\n",
        "    true_positives = K.sum(K.round(K.clip(y_true * y_pred, 0, 1)))\n",
        "    possible_positives = K.sum(K.round(K.clip(y_true, 0, 1)))\n",
        "    recall = true_positives / (possible_positives + K.epsilon())\n",
        "    return recall\n",
        "\n",
        "def precision_m(y_true, y_pred):\n",
        "    true_positives = K.sum(K.round(K.clip(y_true * y_pred, 0, 1)))\n",
        "    predicted_positives = K.sum(K.round(K.clip(y_pred, 0, 1)))\n",
        "    precision = true_positives / (predicted_positives + K.epsilon())\n",
        "    return precision\n",
        "\n",
        "def f1_m(y_true, y_pred):\n",
        "    precision = precision_m(y_true, y_pred)\n",
        "    recall = recall_m(y_true, y_pred)\n",
        "    return 2*((precision*recall)/(precision+recall+K.epsilon()))"
      ]
    },
    {
      "cell_type": "markdown",
      "metadata": {
        "id": "GP5bBb37Z_5y"
      },
      "source": [
        "#### compile model"
      ]
    },
    {
      "cell_type": "code",
      "execution_count": null,
      "metadata": {
        "id": "cgJsmlO_70Kf"
      },
      "outputs": [],
      "source": [
        "model.compile(loss = \"categorical_crossentropy\",\n",
        "              optimizer = \"rmsprop\",\n",
        "              metrics = [\"accuracy\",tf.keras.metrics.Precision(), tf.keras.metrics.Recall(),f1_m,tf.keras.metrics.AUC()]\n",
        "              )"
      ]
    },
    {
      "cell_type": "markdown",
      "metadata": {
        "id": "4T5n2GhGZ_5y"
      },
      "source": [
        "#### we are reducing learning rate to prevent overfitting"
      ]
    },
    {
      "cell_type": "code",
      "execution_count": null,
      "metadata": {
        "id": "1nfr1-TOAI11"
      },
      "outputs": [],
      "source": [
        "reduce_lr = ReduceLROnPlateau(monitor='val_accuracy', factor=0.3, patience=3, min_denta=0.0001, mode='auto', verbose=1)\n",
        "\n",
        "# using tensorboard \n",
        "tensorboard = TensorBoard(log_dir='logs')\n",
        "\n",
        "# give location of file where you want to save model while trainng the model with 'cnn_classification.h5' name\n",
        "file_path = \"/content/drive/MyDrive/Colab Notebooks/ML/images_train_test_val/cnn_classification.h5\"\n",
        "# saves the best fitted model\n",
        "checkpoint = ModelCheckpoint(file_path, monitor='val_accuracy', save_best_only=True, mode='auto', verbose=1)"
      ]
    },
    {
      "cell_type": "code",
      "execution_count": null,
      "metadata": {
        "colab": {
          "base_uri": "https://localhost:8080/"
        },
        "id": "D469b1369UKh",
        "outputId": "87b95d0c-6dba-45af-9175-999dae64de0b"
      },
      "outputs": [
        {
          "name": "stdout",
          "output_type": "stream",
          "text": [
            "Epoch 1/50\n",
            "83/83 [==============================] - ETA: 0s - loss: 1.2824 - accuracy: 0.5768 - precision: 0.6801 - recall: 0.4338 - f1_m: 0.5027 - auc: 0.8137\n",
            "Epoch 00001: val_accuracy improved from -inf to 0.79181, saving model to /content/drive/MyDrive/Colab Notebooks/ML/images_train_test_val/custom_cnn_classification.h5\n",
            "83/83 [==============================] - 374s 4s/step - loss: 1.2824 - accuracy: 0.5768 - precision: 0.6801 - recall: 0.4338 - f1_m: 0.5027 - auc: 0.8137 - val_loss: 0.5096 - val_accuracy: 0.7918 - val_precision: 0.8233 - val_recall: 0.7474 - val_f1_m: 0.7842 - val_auc: 0.9575 - lr: 0.0010\n",
            "Epoch 2/50\n",
            "83/83 [==============================] - ETA: 0s - loss: 0.5564 - accuracy: 0.7918 - precision: 0.8277 - recall: 0.7486 - f1_m: 0.7842 - auc: 0.9469\n",
            "Epoch 00002: val_accuracy did not improve from 0.79181\n",
            "83/83 [==============================] - 64s 766ms/step - loss: 0.5564 - accuracy: 0.7918 - precision: 0.8277 - recall: 0.7486 - f1_m: 0.7842 - auc: 0.9469 - val_loss: 0.6895 - val_accuracy: 0.7816 - val_precision: 0.7978 - val_recall: 0.7406 - val_f1_m: 0.7596 - val_auc: 0.9242 - lr: 0.0010\n",
            "Epoch 3/50\n",
            "83/83 [==============================] - ETA: 0s - loss: 0.4350 - accuracy: 0.8563 - precision: 0.8819 - recall: 0.8294 - f1_m: 0.8536 - auc: 0.9669\n",
            "Epoch 00003: val_accuracy improved from 0.79181 to 0.84300, saving model to /content/drive/MyDrive/Colab Notebooks/ML/images_train_test_val/custom_cnn_classification.h5\n",
            "83/83 [==============================] - 65s 783ms/step - loss: 0.4350 - accuracy: 0.8563 - precision: 0.8819 - recall: 0.8294 - f1_m: 0.8536 - auc: 0.9669 - val_loss: 0.3550 - val_accuracy: 0.8430 - val_precision: 0.9137 - val_recall: 0.7952 - val_f1_m: 0.8531 - val_auc: 0.9782 - lr: 0.0010\n",
            "Epoch 4/50\n",
            "83/83 [==============================] - ETA: 0s - loss: 0.3450 - accuracy: 0.8832 - precision: 0.8979 - recall: 0.8604 - f1_m: 0.8769 - auc: 0.9786\n",
            "Epoch 00004: val_accuracy improved from 0.84300 to 0.91468, saving model to /content/drive/MyDrive/Colab Notebooks/ML/images_train_test_val/custom_cnn_classification.h5\n",
            "83/83 [==============================] - 65s 783ms/step - loss: 0.3450 - accuracy: 0.8832 - precision: 0.8979 - recall: 0.8604 - f1_m: 0.8769 - auc: 0.9786 - val_loss: 0.2806 - val_accuracy: 0.9147 - val_precision: 0.9271 - val_recall: 0.9113 - val_f1_m: 0.8974 - val_auc: 0.9830 - lr: 0.0010\n",
            "Epoch 5/50\n",
            "83/83 [==============================] - ETA: 0s - loss: 0.3262 - accuracy: 0.8889 - precision: 0.9047 - recall: 0.8749 - f1_m: 0.8886 - auc: 0.9811\n",
            "Epoch 00005: val_accuracy improved from 0.91468 to 0.94539, saving model to /content/drive/MyDrive/Colab Notebooks/ML/images_train_test_val/custom_cnn_classification.h5\n",
            "83/83 [==============================] - 65s 780ms/step - loss: 0.3262 - accuracy: 0.8889 - precision: 0.9047 - recall: 0.8749 - f1_m: 0.8886 - auc: 0.9811 - val_loss: 0.2076 - val_accuracy: 0.9454 - val_precision: 0.9549 - val_recall: 0.9386 - val_f1_m: 0.9225 - val_auc: 0.9914 - lr: 0.0010\n",
            "Epoch 6/50\n",
            "83/83 [==============================] - ETA: 0s - loss: 0.2600 - accuracy: 0.9086 - precision: 0.9195 - recall: 0.8969 - f1_m: 0.9063 - auc: 0.9869\n",
            "Epoch 00006: val_accuracy did not improve from 0.94539\n",
            "83/83 [==============================] - 64s 771ms/step - loss: 0.2600 - accuracy: 0.9086 - precision: 0.9195 - recall: 0.8969 - f1_m: 0.9063 - auc: 0.9869 - val_loss: 0.1543 - val_accuracy: 0.9454 - val_precision: 0.9614 - val_recall: 0.9352 - val_f1_m: 0.9523 - val_auc: 0.9946 - lr: 0.0010\n",
            "Epoch 7/50\n",
            "83/83 [==============================] - ETA: 0s - loss: 0.2593 - accuracy: 0.9188 - precision: 0.9277 - recall: 0.9097 - f1_m: 0.9170 - auc: 0.9859\n",
            "Epoch 00007: val_accuracy did not improve from 0.94539\n",
            "83/83 [==============================] - 63s 760ms/step - loss: 0.2593 - accuracy: 0.9188 - precision: 0.9277 - recall: 0.9097 - f1_m: 0.9170 - auc: 0.9859 - val_loss: 0.4033 - val_accuracy: 0.8430 - val_precision: 0.8773 - val_recall: 0.8055 - val_f1_m: 0.8531 - val_auc: 0.9727 - lr: 0.0010\n",
            "Epoch 8/50\n",
            "83/83 [==============================] - ETA: 0s - loss: 0.2634 - accuracy: 0.9109 - precision: 0.9220 - recall: 0.8969 - f1_m: 0.9090 - auc: 0.9869\n",
            "Epoch 00008: val_accuracy improved from 0.94539 to 0.95222, saving model to /content/drive/MyDrive/Colab Notebooks/ML/images_train_test_val/custom_cnn_classification.h5\n",
            "83/83 [==============================] - 65s 778ms/step - loss: 0.2634 - accuracy: 0.9109 - precision: 0.9220 - recall: 0.8969 - f1_m: 0.9090 - auc: 0.9869 - val_loss: 0.1244 - val_accuracy: 0.9522 - val_precision: 0.9585 - val_recall: 0.9454 - val_f1_m: 0.9556 - val_auc: 0.9976 - lr: 0.0010\n",
            "Epoch 9/50\n",
            "83/83 [==============================] - ETA: 0s - loss: 0.2146 - accuracy: 0.9302 - precision: 0.9424 - recall: 0.9185 - f1_m: 0.9297 - auc: 0.9907\n",
            "Epoch 00009: val_accuracy did not improve from 0.95222\n",
            "83/83 [==============================] - 64s 766ms/step - loss: 0.2146 - accuracy: 0.9302 - precision: 0.9424 - recall: 0.9185 - f1_m: 0.9297 - auc: 0.9907 - val_loss: 0.1340 - val_accuracy: 0.9488 - val_precision: 0.9585 - val_recall: 0.9454 - val_f1_m: 0.9558 - val_auc: 0.9971 - lr: 0.0010\n",
            "Epoch 10/50\n",
            "83/83 [==============================] - ETA: 0s - loss: 0.2378 - accuracy: 0.9317 - precision: 0.9418 - recall: 0.9211 - f1_m: 0.9315 - auc: 0.9885\n",
            "Epoch 00010: val_accuracy did not improve from 0.95222\n",
            "83/83 [==============================] - 63s 761ms/step - loss: 0.2378 - accuracy: 0.9317 - precision: 0.9418 - recall: 0.9211 - f1_m: 0.9315 - auc: 0.9885 - val_loss: 1.0099 - val_accuracy: 0.7577 - val_precision: 0.7595 - val_recall: 0.7543 - val_f1_m: 0.7266 - val_auc: 0.9077 - lr: 0.0010\n",
            "Epoch 11/50\n",
            "83/83 [==============================] - ETA: 0s - loss: 0.2177 - accuracy: 0.9340 - precision: 0.9427 - recall: 0.9295 - f1_m: 0.9358 - auc: 0.9895\n",
            "Epoch 00011: val_accuracy did not improve from 0.95222\n",
            "\n",
            "Epoch 00011: ReduceLROnPlateau reducing learning rate to 0.0003000000142492354.\n",
            "83/83 [==============================] - 63s 758ms/step - loss: 0.2177 - accuracy: 0.9340 - precision: 0.9427 - recall: 0.9295 - f1_m: 0.9358 - auc: 0.9895 - val_loss: 0.1291 - val_accuracy: 0.9488 - val_precision: 0.9553 - val_recall: 0.9488 - val_f1_m: 0.9392 - val_auc: 0.9971 - lr: 0.0010\n",
            "Epoch 12/50\n",
            "83/83 [==============================] - ETA: 0s - loss: 0.0994 - accuracy: 0.9613 - precision: 0.9630 - recall: 0.9583 - f1_m: 0.9593 - auc: 0.9975\n",
            "Epoch 00012: val_accuracy improved from 0.95222 to 0.95904, saving model to /content/drive/MyDrive/Colab Notebooks/ML/images_train_test_val/custom_cnn_classification.h5\n",
            "83/83 [==============================] - 64s 772ms/step - loss: 0.0994 - accuracy: 0.9613 - precision: 0.9630 - recall: 0.9583 - f1_m: 0.9593 - auc: 0.9975 - val_loss: 0.1054 - val_accuracy: 0.9590 - val_precision: 0.9622 - val_recall: 0.9556 - val_f1_m: 0.9623 - val_auc: 0.9979 - lr: 3.0000e-04\n",
            "Epoch 13/50\n",
            "83/83 [==============================] - ETA: 0s - loss: 0.0911 - accuracy: 0.9693 - precision: 0.9744 - recall: 0.9666 - f1_m: 0.9701 - auc: 0.9973\n",
            "Epoch 00013: val_accuracy did not improve from 0.95904\n",
            "83/83 [==============================] - 63s 757ms/step - loss: 0.0911 - accuracy: 0.9693 - precision: 0.9744 - recall: 0.9666 - f1_m: 0.9701 - auc: 0.9973 - val_loss: 0.1301 - val_accuracy: 0.9590 - val_precision: 0.9623 - val_recall: 0.9590 - val_f1_m: 0.9471 - val_auc: 0.9957 - lr: 3.0000e-04\n",
            "Epoch 14/50\n",
            "83/83 [==============================] - ETA: 0s - loss: 0.0878 - accuracy: 0.9670 - precision: 0.9688 - recall: 0.9655 - f1_m: 0.9668 - auc: 0.9976\n",
            "Epoch 00014: val_accuracy improved from 0.95904 to 0.96587, saving model to /content/drive/MyDrive/Colab Notebooks/ML/images_train_test_val/custom_cnn_classification.h5\n",
            "83/83 [==============================] - 64s 773ms/step - loss: 0.0878 - accuracy: 0.9670 - precision: 0.9688 - recall: 0.9655 - f1_m: 0.9668 - auc: 0.9976 - val_loss: 0.0734 - val_accuracy: 0.9659 - val_precision: 0.9691 - val_recall: 0.9625 - val_f1_m: 0.9686 - val_auc: 0.9989 - lr: 3.0000e-04\n",
            "Epoch 15/50\n",
            "83/83 [==============================] - ETA: 0s - loss: 0.0898 - accuracy: 0.9712 - precision: 0.9745 - recall: 0.9697 - f1_m: 0.9720 - auc: 0.9979\n",
            "Epoch 00015: val_accuracy did not improve from 0.96587\n",
            "83/83 [==============================] - 64s 765ms/step - loss: 0.0898 - accuracy: 0.9712 - precision: 0.9745 - recall: 0.9697 - f1_m: 0.9720 - auc: 0.9979 - val_loss: 0.1064 - val_accuracy: 0.9556 - val_precision: 0.9589 - val_recall: 0.9556 - val_f1_m: 0.9439 - val_auc: 0.9981 - lr: 3.0000e-04\n",
            "Epoch 16/50\n",
            "83/83 [==============================] - ETA: 0s - loss: 0.0774 - accuracy: 0.9754 - precision: 0.9779 - recall: 0.9738 - f1_m: 0.9760 - auc: 0.9980\n",
            "Epoch 00016: val_accuracy did not improve from 0.96587\n",
            "83/83 [==============================] - 63s 757ms/step - loss: 0.0774 - accuracy: 0.9754 - precision: 0.9779 - recall: 0.9738 - f1_m: 0.9760 - auc: 0.9980 - val_loss: 0.1274 - val_accuracy: 0.9590 - val_precision: 0.9589 - val_recall: 0.9556 - val_f1_m: 0.9608 - val_auc: 0.9959 - lr: 3.0000e-04\n",
            "Epoch 17/50\n",
            "83/83 [==============================] - ETA: 0s - loss: 0.0728 - accuracy: 0.9754 - precision: 0.9775 - recall: 0.9735 - f1_m: 0.9756 - auc: 0.9983\n",
            "Epoch 00017: val_accuracy improved from 0.96587 to 0.97270, saving model to /content/drive/MyDrive/Colab Notebooks/ML/images_train_test_val/custom_cnn_classification.h5\n",
            "83/83 [==============================] - 64s 776ms/step - loss: 0.0728 - accuracy: 0.9754 - precision: 0.9775 - recall: 0.9735 - f1_m: 0.9756 - auc: 0.9983 - val_loss: 0.0828 - val_accuracy: 0.9727 - val_precision: 0.9726 - val_recall: 0.9693 - val_f1_m: 0.9734 - val_auc: 0.9988 - lr: 3.0000e-04\n",
            "Epoch 18/50\n",
            "83/83 [==============================] - ETA: 0s - loss: 0.0795 - accuracy: 0.9757 - precision: 0.9772 - recall: 0.9757 - f1_m: 0.9766 - auc: 0.9973\n",
            "Epoch 00018: val_accuracy did not improve from 0.97270\n",
            "83/83 [==============================] - 64s 764ms/step - loss: 0.0795 - accuracy: 0.9757 - precision: 0.9772 - recall: 0.9757 - f1_m: 0.9766 - auc: 0.9973 - val_loss: 0.1081 - val_accuracy: 0.9556 - val_precision: 0.9556 - val_recall: 0.9556 - val_f1_m: 0.9594 - val_auc: 0.9982 - lr: 3.0000e-04\n",
            "Epoch 19/50\n",
            "83/83 [==============================] - ETA: 0s - loss: 0.0772 - accuracy: 0.9750 - precision: 0.9768 - recall: 0.9746 - f1_m: 0.9753 - auc: 0.9975\n",
            "Epoch 00019: val_accuracy did not improve from 0.97270\n",
            "83/83 [==============================] - 63s 759ms/step - loss: 0.0772 - accuracy: 0.9750 - precision: 0.9768 - recall: 0.9746 - f1_m: 0.9753 - auc: 0.9975 - val_loss: 0.1058 - val_accuracy: 0.9590 - val_precision: 0.9689 - val_recall: 0.9556 - val_f1_m: 0.9653 - val_auc: 0.9982 - lr: 3.0000e-04\n",
            "Epoch 20/50\n",
            "83/83 [==============================] - ETA: 0s - loss: 0.0750 - accuracy: 0.9750 - precision: 0.9771 - recall: 0.9727 - f1_m: 0.9750 - auc: 0.9974\n",
            "Epoch 00020: val_accuracy did not improve from 0.97270\n",
            "\n",
            "Epoch 00020: ReduceLROnPlateau reducing learning rate to 9.000000427477062e-05.\n",
            "83/83 [==============================] - 63s 759ms/step - loss: 0.0750 - accuracy: 0.9750 - precision: 0.9771 - recall: 0.9727 - f1_m: 0.9750 - auc: 0.9974 - val_loss: 0.0879 - val_accuracy: 0.9693 - val_precision: 0.9692 - val_recall: 0.9659 - val_f1_m: 0.9702 - val_auc: 0.9988 - lr: 3.0000e-04\n",
            "Epoch 21/50\n",
            "83/83 [==============================] - ETA: 0s - loss: 0.0605 - accuracy: 0.9803 - precision: 0.9814 - recall: 0.9795 - f1_m: 0.9800 - auc: 0.9991\n",
            "Epoch 00021: val_accuracy improved from 0.97270 to 0.97611, saving model to /content/drive/MyDrive/Colab Notebooks/ML/images_train_test_val/custom_cnn_classification.h5\n",
            "83/83 [==============================] - 66s 789ms/step - loss: 0.0605 - accuracy: 0.9803 - precision: 0.9814 - recall: 0.9795 - f1_m: 0.9800 - auc: 0.9991 - val_loss: 0.0706 - val_accuracy: 0.9761 - val_precision: 0.9828 - val_recall: 0.9761 - val_f1_m: 0.9812 - val_auc: 0.9990 - lr: 9.0000e-05\n",
            "Epoch 22/50\n",
            "83/83 [==============================] - ETA: 0s - loss: 0.0489 - accuracy: 0.9814 - precision: 0.9825 - recall: 0.9799 - f1_m: 0.9808 - auc: 0.9994\n",
            "Epoch 00022: val_accuracy did not improve from 0.97611\n",
            "83/83 [==============================] - 63s 762ms/step - loss: 0.0489 - accuracy: 0.9814 - precision: 0.9825 - recall: 0.9799 - f1_m: 0.9808 - auc: 0.9994 - val_loss: 0.0693 - val_accuracy: 0.9761 - val_precision: 0.9760 - val_recall: 0.9727 - val_f1_m: 0.9670 - val_auc: 0.9992 - lr: 9.0000e-05\n",
            "Epoch 23/50\n",
            "83/83 [==============================] - ETA: 0s - loss: 0.0491 - accuracy: 0.9791 - precision: 0.9806 - recall: 0.9788 - f1_m: 0.9798 - auc: 0.9993\n",
            "Epoch 00023: val_accuracy did not improve from 0.97611\n",
            "83/83 [==============================] - 63s 757ms/step - loss: 0.0491 - accuracy: 0.9791 - precision: 0.9806 - recall: 0.9788 - f1_m: 0.9798 - auc: 0.9993 - val_loss: 0.1254 - val_accuracy: 0.9693 - val_precision: 0.9726 - val_recall: 0.9693 - val_f1_m: 0.9734 - val_auc: 0.9942 - lr: 9.0000e-05\n",
            "Epoch 24/50\n",
            "83/83 [==============================] - ETA: 0s - loss: 0.0427 - accuracy: 0.9856 - precision: 0.9860 - recall: 0.9852 - f1_m: 0.9857 - auc: 0.9990\n",
            "Epoch 00024: val_accuracy improved from 0.97611 to 0.97952, saving model to /content/drive/MyDrive/Colab Notebooks/ML/images_train_test_val/custom_cnn_classification.h5\n",
            "83/83 [==============================] - 65s 777ms/step - loss: 0.0427 - accuracy: 0.9856 - precision: 0.9860 - recall: 0.9852 - f1_m: 0.9857 - auc: 0.9990 - val_loss: 0.0454 - val_accuracy: 0.9795 - val_precision: 0.9795 - val_recall: 0.9795 - val_f1_m: 0.9812 - val_auc: 0.9996 - lr: 9.0000e-05\n",
            "Epoch 25/50\n",
            "83/83 [==============================] - ETA: 0s - loss: 0.0694 - accuracy: 0.9788 - precision: 0.9802 - recall: 0.9784 - f1_m: 0.9795 - auc: 0.9982\n",
            "Epoch 00025: val_accuracy did not improve from 0.97952\n",
            "83/83 [==============================] - 64s 772ms/step - loss: 0.0694 - accuracy: 0.9788 - precision: 0.9802 - recall: 0.9784 - f1_m: 0.9795 - auc: 0.9982 - val_loss: 0.0839 - val_accuracy: 0.9659 - val_precision: 0.9659 - val_recall: 0.9659 - val_f1_m: 0.9687 - val_auc: 0.9989 - lr: 9.0000e-05\n",
            "Epoch 26/50\n",
            "83/83 [==============================] - ETA: 0s - loss: 0.0547 - accuracy: 0.9807 - precision: 0.9821 - recall: 0.9803 - f1_m: 0.9813 - auc: 0.9988\n",
            "Epoch 00026: val_accuracy did not improve from 0.97952\n",
            "83/83 [==============================] - 64s 765ms/step - loss: 0.0547 - accuracy: 0.9807 - precision: 0.9821 - recall: 0.9803 - f1_m: 0.9813 - auc: 0.9988 - val_loss: 0.0934 - val_accuracy: 0.9795 - val_precision: 0.9795 - val_recall: 0.9761 - val_f1_m: 0.9797 - val_auc: 0.9987 - lr: 9.0000e-05\n",
            "Epoch 27/50\n",
            "83/83 [==============================] - ETA: 0s - loss: 0.0531 - accuracy: 0.9829 - precision: 0.9837 - recall: 0.9822 - f1_m: 0.9830 - auc: 0.9987\n",
            "Epoch 00027: val_accuracy did not improve from 0.97952\n",
            "\n",
            "Epoch 00027: ReduceLROnPlateau reducing learning rate to 2.700000040931627e-05.\n",
            "83/83 [==============================] - 64s 766ms/step - loss: 0.0531 - accuracy: 0.9829 - precision: 0.9837 - recall: 0.9822 - f1_m: 0.9830 - auc: 0.9987 - val_loss: 0.0739 - val_accuracy: 0.9727 - val_precision: 0.9727 - val_recall: 0.9727 - val_f1_m: 0.9750 - val_auc: 0.9992 - lr: 9.0000e-05\n",
            "Epoch 28/50\n",
            "83/83 [==============================] - ETA: 0s - loss: 0.0418 - accuracy: 0.9856 - precision: 0.9863 - recall: 0.9841 - f1_m: 0.9853 - auc: 0.9992\n",
            "Epoch 00028: val_accuracy did not improve from 0.97952\n",
            "83/83 [==============================] - 63s 759ms/step - loss: 0.0418 - accuracy: 0.9856 - precision: 0.9863 - recall: 0.9841 - f1_m: 0.9853 - auc: 0.9992 - val_loss: 0.0751 - val_accuracy: 0.9727 - val_precision: 0.9727 - val_recall: 0.9727 - val_f1_m: 0.9750 - val_auc: 0.9971 - lr: 2.7000e-05\n",
            "Epoch 29/50\n",
            "83/83 [==============================] - ETA: 0s - loss: 0.0431 - accuracy: 0.9845 - precision: 0.9844 - recall: 0.9841 - f1_m: 0.9844 - auc: 0.9991\n",
            "Epoch 00029: val_accuracy improved from 0.97952 to 0.98976, saving model to /content/drive/MyDrive/Colab Notebooks/ML/images_train_test_val/custom_cnn_classification.h5\n",
            "83/83 [==============================] - 65s 779ms/step - loss: 0.0431 - accuracy: 0.9845 - precision: 0.9844 - recall: 0.9841 - f1_m: 0.9844 - auc: 0.9991 - val_loss: 0.0540 - val_accuracy: 0.9898 - val_precision: 0.9932 - val_recall: 0.9898 - val_f1_m: 0.9922 - val_auc: 0.9975 - lr: 2.7000e-05\n",
            "Epoch 30/50\n",
            "83/83 [==============================] - ETA: 0s - loss: 0.0360 - accuracy: 0.9841 - precision: 0.9856 - recall: 0.9833 - f1_m: 0.9845 - auc: 0.9998\n",
            "Epoch 00030: val_accuracy improved from 0.98976 to 0.99317, saving model to /content/drive/MyDrive/Colab Notebooks/ML/images_train_test_val/custom_cnn_classification.h5\n",
            "83/83 [==============================] - 65s 783ms/step - loss: 0.0360 - accuracy: 0.9841 - precision: 0.9856 - recall: 0.9833 - f1_m: 0.9845 - auc: 0.9998 - val_loss: 0.0438 - val_accuracy: 0.9932 - val_precision: 0.9932 - val_recall: 0.9932 - val_f1_m: 0.9937 - val_auc: 0.9981 - lr: 2.7000e-05\n",
            "Epoch 31/50\n",
            "83/83 [==============================] - ETA: 0s - loss: 0.0550 - accuracy: 0.9848 - precision: 0.9856 - recall: 0.9841 - f1_m: 0.9849 - auc: 0.9988\n",
            "Epoch 00031: val_accuracy did not improve from 0.99317\n",
            "83/83 [==============================] - 64s 766ms/step - loss: 0.0550 - accuracy: 0.9848 - precision: 0.9856 - recall: 0.9841 - f1_m: 0.9849 - auc: 0.9988 - val_loss: 0.0623 - val_accuracy: 0.9761 - val_precision: 0.9761 - val_recall: 0.9761 - val_f1_m: 0.9781 - val_auc: 0.9994 - lr: 2.7000e-05\n",
            "Epoch 32/50\n",
            "83/83 [==============================] - ETA: 0s - loss: 0.0405 - accuracy: 0.9848 - precision: 0.9856 - recall: 0.9837 - f1_m: 0.9847 - auc: 0.9995\n",
            "Epoch 00032: val_accuracy did not improve from 0.99317\n",
            "83/83 [==============================] - 63s 759ms/step - loss: 0.0405 - accuracy: 0.9848 - precision: 0.9856 - recall: 0.9837 - f1_m: 0.9847 - auc: 0.9995 - val_loss: 0.0574 - val_accuracy: 0.9795 - val_precision: 0.9829 - val_recall: 0.9795 - val_f1_m: 0.9827 - val_auc: 0.9995 - lr: 2.7000e-05\n",
            "Epoch 33/50\n",
            "83/83 [==============================] - ETA: 0s - loss: 0.0530 - accuracy: 0.9826 - precision: 0.9833 - recall: 0.9818 - f1_m: 0.9827 - auc: 0.9985\n",
            "Epoch 00033: val_accuracy did not improve from 0.99317\n",
            "\n",
            "Epoch 00033: ReduceLROnPlateau reducing learning rate to 8.100000013655517e-06.\n",
            "83/83 [==============================] - 63s 760ms/step - loss: 0.0530 - accuracy: 0.9826 - precision: 0.9833 - recall: 0.9818 - f1_m: 0.9827 - auc: 0.9985 - val_loss: 0.0695 - val_accuracy: 0.9795 - val_precision: 0.9795 - val_recall: 0.9795 - val_f1_m: 0.9812 - val_auc: 0.9972 - lr: 2.7000e-05\n",
            "Epoch 34/50\n",
            "83/83 [==============================] - ETA: 0s - loss: 0.0402 - accuracy: 0.9860 - precision: 0.9871 - recall: 0.9848 - f1_m: 0.9860 - auc: 0.9989\n",
            "Epoch 00034: val_accuracy did not improve from 0.99317\n",
            "83/83 [==============================] - 64s 773ms/step - loss: 0.0402 - accuracy: 0.9860 - precision: 0.9871 - recall: 0.9848 - f1_m: 0.9860 - auc: 0.9989 - val_loss: 0.0808 - val_accuracy: 0.9659 - val_precision: 0.9692 - val_recall: 0.9659 - val_f1_m: 0.9702 - val_auc: 0.9969 - lr: 8.1000e-06\n",
            "Epoch 35/50\n",
            "83/83 [==============================] - ETA: 0s - loss: 0.0436 - accuracy: 0.9848 - precision: 0.9856 - recall: 0.9848 - f1_m: 0.9848 - auc: 0.9990\n",
            "Epoch 00035: val_accuracy did not improve from 0.99317\n",
            "83/83 [==============================] - 64s 766ms/step - loss: 0.0436 - accuracy: 0.9848 - precision: 0.9856 - recall: 0.9848 - f1_m: 0.9848 - auc: 0.9990 - val_loss: 0.0665 - val_accuracy: 0.9761 - val_precision: 0.9761 - val_recall: 0.9761 - val_f1_m: 0.9781 - val_auc: 0.9993 - lr: 8.1000e-06\n",
            "Epoch 36/50\n",
            "83/83 [==============================] - ETA: 0s - loss: 0.0412 - accuracy: 0.9837 - precision: 0.9840 - recall: 0.9826 - f1_m: 0.9834 - auc: 0.9992\n",
            "Epoch 00036: val_accuracy did not improve from 0.99317\n",
            "\n",
            "Epoch 00036: ReduceLROnPlateau reducing learning rate to 2.429999949526973e-06.\n",
            "83/83 [==============================] - 64s 766ms/step - loss: 0.0412 - accuracy: 0.9837 - precision: 0.9840 - recall: 0.9826 - f1_m: 0.9834 - auc: 0.9992 - val_loss: 0.0564 - val_accuracy: 0.9727 - val_precision: 0.9727 - val_recall: 0.9727 - val_f1_m: 0.9750 - val_auc: 0.9994 - lr: 8.1000e-06\n",
            "Epoch 37/50\n",
            "83/83 [==============================] - ETA: 0s - loss: 0.0361 - accuracy: 0.9856 - precision: 0.9863 - recall: 0.9841 - f1_m: 0.9853 - auc: 0.9995\n",
            "Epoch 00037: val_accuracy did not improve from 0.99317\n",
            "83/83 [==============================] - 63s 762ms/step - loss: 0.0361 - accuracy: 0.9856 - precision: 0.9863 - recall: 0.9841 - f1_m: 0.9853 - auc: 0.9995 - val_loss: 0.0714 - val_accuracy: 0.9795 - val_precision: 0.9828 - val_recall: 0.9761 - val_f1_m: 0.9811 - val_auc: 0.9993 - lr: 2.4300e-06\n",
            "Epoch 38/50\n",
            "83/83 [==============================] - ETA: 0s - loss: 0.0383 - accuracy: 0.9871 - precision: 0.9886 - recall: 0.9863 - f1_m: 0.9875 - auc: 0.9993\n",
            "Epoch 00038: val_accuracy did not improve from 0.99317\n",
            "83/83 [==============================] - 67s 810ms/step - loss: 0.0383 - accuracy: 0.9871 - precision: 0.9886 - recall: 0.9863 - f1_m: 0.9875 - auc: 0.9993 - val_loss: 0.0417 - val_accuracy: 0.9898 - val_precision: 0.9898 - val_recall: 0.9898 - val_f1_m: 0.9906 - val_auc: 0.9997 - lr: 2.4300e-06\n",
            "Epoch 39/50\n",
            "83/83 [==============================] - ETA: 0s - loss: 0.0538 - accuracy: 0.9826 - precision: 0.9829 - recall: 0.9818 - f1_m: 0.9825 - auc: 0.9987\n",
            "Epoch 00039: val_accuracy did not improve from 0.99317\n",
            "\n",
            "Epoch 00039: ReduceLROnPlateau reducing learning rate to 7.289999985005124e-07.\n",
            "83/83 [==============================] - 64s 770ms/step - loss: 0.0538 - accuracy: 0.9826 - precision: 0.9829 - recall: 0.9818 - f1_m: 0.9825 - auc: 0.9987 - val_loss: 0.0618 - val_accuracy: 0.9727 - val_precision: 0.9760 - val_recall: 0.9727 - val_f1_m: 0.9765 - val_auc: 0.9993 - lr: 2.4300e-06\n",
            "Epoch 40/50\n",
            "83/83 [==============================] - ETA: 0s - loss: 0.0444 - accuracy: 0.9826 - precision: 0.9829 - recall: 0.9807 - f1_m: 0.9819 - auc: 0.9989\n",
            "Epoch 00040: val_accuracy did not improve from 0.99317\n",
            "83/83 [==============================] - 64s 764ms/step - loss: 0.0444 - accuracy: 0.9826 - precision: 0.9829 - recall: 0.9807 - f1_m: 0.9819 - auc: 0.9989 - val_loss: 0.0849 - val_accuracy: 0.9795 - val_precision: 0.9795 - val_recall: 0.9795 - val_f1_m: 0.9812 - val_auc: 0.9970 - lr: 7.2900e-07\n",
            "Epoch 41/50\n",
            "83/83 [==============================] - ETA: 0s - loss: 0.0452 - accuracy: 0.9837 - precision: 0.9852 - recall: 0.9837 - f1_m: 0.9845 - auc: 0.9988\n",
            "Epoch 00041: val_accuracy did not improve from 0.99317\n",
            "83/83 [==============================] - 63s 761ms/step - loss: 0.0452 - accuracy: 0.9837 - precision: 0.9852 - recall: 0.9837 - f1_m: 0.9845 - auc: 0.9988 - val_loss: 0.0810 - val_accuracy: 0.9727 - val_precision: 0.9760 - val_recall: 0.9727 - val_f1_m: 0.9765 - val_auc: 0.9969 - lr: 7.2900e-07\n",
            "Epoch 42/50\n",
            "83/83 [==============================] - ETA: 0s - loss: 0.0439 - accuracy: 0.9875 - precision: 0.9882 - recall: 0.9871 - f1_m: 0.9878 - auc: 0.9984\n",
            "Epoch 00042: val_accuracy did not improve from 0.99317\n",
            "\n",
            "Epoch 00042: ReduceLROnPlateau reducing learning rate to 2.1870000637136398e-07.\n",
            "83/83 [==============================] - 63s 762ms/step - loss: 0.0439 - accuracy: 0.9875 - precision: 0.9882 - recall: 0.9871 - f1_m: 0.9878 - auc: 0.9984 - val_loss: 0.0603 - val_accuracy: 0.9829 - val_precision: 0.9829 - val_recall: 0.9829 - val_f1_m: 0.9844 - val_auc: 0.9978 - lr: 7.2900e-07\n",
            "Epoch 43/50\n",
            "83/83 [==============================] - ETA: 0s - loss: 0.0441 - accuracy: 0.9826 - precision: 0.9829 - recall: 0.9826 - f1_m: 0.9829 - auc: 0.9992\n",
            "Epoch 00043: val_accuracy did not improve from 0.99317\n",
            "83/83 [==============================] - 63s 762ms/step - loss: 0.0441 - accuracy: 0.9826 - precision: 0.9829 - recall: 0.9826 - f1_m: 0.9829 - auc: 0.9992 - val_loss: 0.0735 - val_accuracy: 0.9829 - val_precision: 0.9829 - val_recall: 0.9829 - val_f1_m: 0.9844 - val_auc: 0.9972 - lr: 2.1870e-07\n",
            "Epoch 44/50\n",
            "83/83 [==============================] - ETA: 0s - loss: 0.0408 - accuracy: 0.9845 - precision: 0.9852 - recall: 0.9833 - f1_m: 0.9844 - auc: 0.9992\n",
            "Epoch 00044: val_accuracy did not improve from 0.99317\n",
            "83/83 [==============================] - 64s 766ms/step - loss: 0.0408 - accuracy: 0.9845 - precision: 0.9852 - recall: 0.9833 - f1_m: 0.9844 - auc: 0.9992 - val_loss: 0.0483 - val_accuracy: 0.9761 - val_precision: 0.9761 - val_recall: 0.9761 - val_f1_m: 0.9781 - val_auc: 0.9996 - lr: 2.1870e-07\n",
            "Epoch 45/50\n",
            "83/83 [==============================] - ETA: 0s - loss: 0.0467 - accuracy: 0.9845 - precision: 0.9848 - recall: 0.9841 - f1_m: 0.9846 - auc: 0.9990\n",
            "Epoch 00045: val_accuracy did not improve from 0.99317\n",
            "\n",
            "Epoch 00045: ReduceLROnPlateau reducing learning rate to 6.561000276406048e-08.\n",
            "83/83 [==============================] - 63s 761ms/step - loss: 0.0467 - accuracy: 0.9845 - precision: 0.9848 - recall: 0.9841 - f1_m: 0.9846 - auc: 0.9990 - val_loss: 0.0654 - val_accuracy: 0.9795 - val_precision: 0.9795 - val_recall: 0.9795 - val_f1_m: 0.9812 - val_auc: 0.9993 - lr: 2.1870e-07\n",
            "Epoch 46/50\n",
            "83/83 [==============================] - ETA: 0s - loss: 0.0404 - accuracy: 0.9856 - precision: 0.9860 - recall: 0.9848 - f1_m: 0.9855 - auc: 0.9991\n",
            "Epoch 00046: val_accuracy did not improve from 0.99317\n",
            "83/83 [==============================] - 64s 769ms/step - loss: 0.0404 - accuracy: 0.9856 - precision: 0.9860 - recall: 0.9848 - f1_m: 0.9855 - auc: 0.9991 - val_loss: 0.0892 - val_accuracy: 0.9761 - val_precision: 0.9761 - val_recall: 0.9761 - val_f1_m: 0.9781 - val_auc: 0.9969 - lr: 6.5610e-08\n",
            "Epoch 47/50\n",
            "83/83 [==============================] - ETA: 0s - loss: 0.0392 - accuracy: 0.9871 - precision: 0.9886 - recall: 0.9863 - f1_m: 0.9876 - auc: 0.9993\n",
            "Epoch 00047: val_accuracy did not improve from 0.99317\n",
            "83/83 [==============================] - 64s 766ms/step - loss: 0.0392 - accuracy: 0.9871 - precision: 0.9886 - recall: 0.9863 - f1_m: 0.9876 - auc: 0.9993 - val_loss: 0.0525 - val_accuracy: 0.9795 - val_precision: 0.9795 - val_recall: 0.9761 - val_f1_m: 0.9797 - val_auc: 0.9994 - lr: 6.5610e-08\n",
            "Epoch 48/50\n",
            "83/83 [==============================] - ETA: 0s - loss: 0.0313 - accuracy: 0.9882 - precision: 0.9882 - recall: 0.9879 - f1_m: 0.9881 - auc: 0.9994\n",
            "Epoch 00048: val_accuracy did not improve from 0.99317\n",
            "\n",
            "Epoch 00048: ReduceLROnPlateau reducing learning rate to 1.9683000829218145e-08.\n",
            "83/83 [==============================] - 63s 761ms/step - loss: 0.0313 - accuracy: 0.9882 - precision: 0.9882 - recall: 0.9879 - f1_m: 0.9881 - auc: 0.9994 - val_loss: 0.0724 - val_accuracy: 0.9863 - val_precision: 0.9863 - val_recall: 0.9863 - val_f1_m: 0.9875 - val_auc: 0.9972 - lr: 6.5610e-08\n",
            "Epoch 49/50\n",
            "83/83 [==============================] - ETA: 0s - loss: 0.0526 - accuracy: 0.9848 - precision: 0.9860 - recall: 0.9848 - f1_m: 0.9855 - auc: 0.9983\n",
            "Epoch 00049: val_accuracy did not improve from 0.99317\n",
            "83/83 [==============================] - 64s 766ms/step - loss: 0.0526 - accuracy: 0.9848 - precision: 0.9860 - recall: 0.9848 - f1_m: 0.9855 - auc: 0.9983 - val_loss: 0.0649 - val_accuracy: 0.9795 - val_precision: 0.9795 - val_recall: 0.9795 - val_f1_m: 0.9812 - val_auc: 0.9994 - lr: 1.9683e-08\n",
            "Epoch 50/50\n",
            "83/83 [==============================] - ETA: 0s - loss: 0.0507 - accuracy: 0.9845 - precision: 0.9852 - recall: 0.9841 - f1_m: 0.9847 - auc: 0.9982\n",
            "Epoch 00050: val_accuracy did not improve from 0.99317\n",
            "83/83 [==============================] - 68s 813ms/step - loss: 0.0507 - accuracy: 0.9845 - precision: 0.9852 - recall: 0.9841 - f1_m: 0.9847 - auc: 0.9982 - val_loss: 0.0761 - val_accuracy: 0.9829 - val_precision: 0.9829 - val_recall: 0.9829 - val_f1_m: 0.9844 - val_auc: 0.9971 - lr: 1.9683e-08\n"
          ]
        }
      ],
      "source": [
        "# we are using batch size of 5000\n",
        "img_batch_size = 5000\n",
        "\n",
        "hist = model.fit(train_data,\n",
        "                           epochs = 50,\n",
        "                           validation_data=test_data,\n",
        "                           batch_size=img_batch_size,callbacks=[tensorboard, checkpoint, reduce_lr]\n",
        "                           )"
      ]
    },
    {
      "cell_type": "code",
      "execution_count": null,
      "metadata": {
        "colab": {
          "base_uri": "https://localhost:8080/"
        },
        "id": "KtxmIX8R-KVx",
        "outputId": "a80d6cdf-5a46-4b09-c701-78864b0c2024"
      },
      "outputs": [
        {
          "name": "stdout",
          "output_type": "stream",
          "text": [
            "11/11 [==============================] - 44s 4s/step - loss: 0.0283 - accuracy: 0.9908 - precision: 0.9908 - recall: 0.9908 - f1_m: 0.9915 - auc: 0.9999\n"
          ]
        }
      ],
      "source": [
        "results = model.evaluate(Test_IMG_Set)"
      ]
    },
    {
      "cell_type": "code",
      "execution_count": null,
      "metadata": {
        "colab": {
          "base_uri": "https://localhost:8080/"
        },
        "id": "l1TvuIueAEs4",
        "outputId": "7c416da8-a0d2-4af1-93ea-70d982406bf1"
      },
      "outputs": [
        {
          "data": {
            "text/plain": [
              "[0.028294051066040993,\n",
              " 0.9907975196838379,\n",
              " 0.9907975196838379,\n",
              " 0.9907975196838379,\n",
              " 0.9914772510528564,\n",
              " 0.9998776912689209]"
            ]
          },
          "execution_count": 26,
          "metadata": {},
          "output_type": "execute_result"
        }
      ],
      "source": [
        "results"
      ]
    },
    {
      "cell_type": "code",
      "execution_count": null,
      "metadata": {
        "colab": {
          "base_uri": "https://localhost:8080/",
          "height": 1000
        },
        "id": "HZrqs_P0-PJm",
        "outputId": "db890671-44af-4494-9126-b32a973f509a"
      },
      "outputs": [
        {
          "name": "stdout",
          "output_type": "stream",
          "text": [
            "dict_keys(['loss', 'accuracy', 'precision', 'recall', 'f1_m', 'auc', 'val_loss', 'val_accuracy', 'val_precision', 'val_recall', 'val_f1_m', 'val_auc', 'lr'])\n"
          ]
        },
        {
          "data": {
            "image/png": "[encoded data removed]",
            "text/plain": [
              "<Figure size 1080x720 with 1 Axes>"
            ]
          },
          "metadata": {
            "needs_background": "light"
          },
          "output_type": "display_data"
        },
        {
          "data": {
            "image/png": "[encoded data removed]",
            "text/plain": [
              "<Figure size 1080x720 with 1 Axes>"
            ]
          },
          "metadata": {
            "needs_background": "light"
          },
          "output_type": "display_data"
        }
      ],
      "source": [
        "import matplotlib.pyplot as plt\n",
        "print(hist.history.keys())\n",
        "plt.figure(figsize=(15,10))\n",
        "plt.plot(hist.history[\"loss\"],label = \"training loss\")\n",
        "plt.plot(hist.history[\"val_loss\"],label = \"validation loss\")\n",
        "plt.title(\"Training Loss & Validation Loss\")\n",
        "plt.xlabel(\"Epoch\")\n",
        "plt.ylabel(\"Loss\")\n",
        "plt.legend()\n",
        "plt.show()\n",
        "\n",
        "plt.figure(figsize=(15,10))\n",
        "plt.plot(hist.history[\"accuracy\"],label = \"training acc\")\n",
        "plt.plot(hist.history[\"val_accuracy\"],label = \"validation acc\")\n",
        "plt.title(\"Training Accuracy & Validation Accuracy\")\n",
        "plt.xlabel(\"Accuracy\")\n",
        "plt.ylabel(\"Accuracy\")\n",
        "plt.legend()\n",
        "plt.show()"
      ]
    },
    {
      "cell_type": "code",
      "execution_count": null,
      "metadata": {
        "id": "4n2w7qO--P4h"
      },
      "outputs": [],
      "source": [
        "model.save_weights(\"VGG16.h5\")"
      ]
    }
  ],
  "metadata": {
    "accelerator": "GPU",
    "colab": {
      "collapsed_sections": [],
      "name": "image_processing_VGG19_model.ipynb",
      "provenance": []
    },
    "kernelspec": {
      "display_name": "Python 3",
      "name": "python3"
    },
    "language_info": {
      "name": "python"
    }
  },
  "nbformat": 4,
  "nbformat_minor": 0
}