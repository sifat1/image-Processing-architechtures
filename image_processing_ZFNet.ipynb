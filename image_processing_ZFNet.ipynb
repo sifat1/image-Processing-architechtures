{
  "cells": [
    {
      "cell_type": "code",
      "execution_count": 1,
      "metadata": {
        "colab": {
          "base_uri": "https://localhost:8080/"
        },
        "id": "CYX73ZjllDl9",
        "outputId": "2b4927ee-6805-4a91-f6d1-1e9d668c863d"
      },
      "outputs": [
        {
          "output_type": "stream",
          "name": "stdout",
          "text": [
            "Drive already mounted at /content/drive; to attempt to forcibly remount, call drive.mount(\"/content/drive\", force_remount=True).\n"
          ]
        }
      ],
      "source": [
        "import os\n",
        "from google.colab import drive\n",
        "drive.mount(\"/content/drive\")"
      ]
    },
    {
      "cell_type": "code",
      "execution_count": 2,
      "metadata": {
        "id": "Ll79m1MR23MI"
      },
      "outputs": [],
      "source": [
        "import os\n",
        "training_dir = \"/content/drive/MyDrive/Colab Notebooks/Image Processing/keukomia/Original\"\n",
        "img_dir_list = os.listdir(training_dir)"
      ]
    },
    {
      "cell_type": "code",
      "execution_count": 3,
      "metadata": {
        "colab": {
          "base_uri": "https://localhost:8080/"
        },
        "id": "V49_Ve2h26y2",
        "outputId": "2f233b5e-e69e-4ad6-8f7f-2d0c2fce0d31"
      },
      "outputs": [
        {
          "output_type": "execute_result",
          "data": {
            "text/plain": [
              "['Pre', 'Pro', 'Early', 'Benign']"
            ]
          },
          "metadata": {},
          "execution_count": 3
        }
      ],
      "source": [
        "img_dir_list"
      ]
    },
    {
      "cell_type": "code",
      "execution_count": 4,
      "metadata": {
        "id": "nBgqthP-nxop"
      },
      "outputs": [],
      "source": [
        "class_names = {'Benign': 0, 'Pro': 1, 'Early': 2, 'Pre': 3}\n",
        "# list file address and class\n",
        "DATA_DF = []\n",
        "for img_dir in img_dir_list:\n",
        "  file_dir = os.listdir(training_dir+\"/\"+img_dir)\n",
        "  for file_name in file_dir:\n",
        "    DATA_DF.append([file_name,class_names[img_dir],img_dir])"
      ]
    },
    {
      "cell_type": "code",
      "execution_count": 5,
      "metadata": {
        "colab": {
          "base_uri": "https://localhost:8080/",
          "height": 206
        },
        "id": "fNRVuEtTtpEo",
        "outputId": "18b06979-76f0-4681-e54a-31e9f9f1de1a"
      },
      "outputs": [
        {
          "output_type": "execute_result",
          "data": {
            "text/html": [
              "\n",
              "  <div id=\"df-0776903f-eaa7-4678-b7b0-b133e52c3320\">\n",
              "    <div class=\"colab-df-container\">\n",
              "      <div>\n",
              "<style scoped>\n",
              "    .dataframe tbody tr th:only-of-type {\n",
              "        vertical-align: middle;\n",
              "    }\n",
              "\n",
              "    .dataframe tbody tr th {\n",
              "        vertical-align: top;\n",
              "    }\n",
              "\n",
              "    .dataframe thead th {\n",
              "        text-align: right;\n",
              "    }\n",
              "</style>\n",
              "<table border=\"1\" class=\"dataframe\">\n",
              "  <thead>\n",
              "    <tr style=\"text-align: right;\">\n",
              "      <th></th>\n",
              "      <th>file_name</th>\n",
              "      <th>class</th>\n",
              "      <th>dir</th>\n",
              "    </tr>\n",
              "  </thead>\n",
              "  <tbody>\n",
              "    <tr>\n",
              "      <th>670</th>\n",
              "      <td>WBC-Malignant-Pre-459.jpg</td>\n",
              "      <td>3</td>\n",
              "      <td>Pre</td>\n",
              "    </tr>\n",
              "    <tr>\n",
              "      <th>1030</th>\n",
              "      <td>WBC-Malignant-Pro-603.jpg</td>\n",
              "      <td>1</td>\n",
              "      <td>Pro</td>\n",
              "    </tr>\n",
              "    <tr>\n",
              "      <th>2950</th>\n",
              "      <td>WBC-Benign-287.jpg</td>\n",
              "      <td>0</td>\n",
              "      <td>Benign</td>\n",
              "    </tr>\n",
              "    <tr>\n",
              "      <th>1921</th>\n",
              "      <td>WBC-Malignant-Early-465.jpg</td>\n",
              "      <td>2</td>\n",
              "      <td>Early</td>\n",
              "    </tr>\n",
              "    <tr>\n",
              "      <th>2066</th>\n",
              "      <td>WBC-Malignant-Early-697.jpg</td>\n",
              "      <td>2</td>\n",
              "      <td>Early</td>\n",
              "    </tr>\n",
              "  </tbody>\n",
              "</table>\n",
              "</div>\n",
              "      <button class=\"colab-df-convert\" onclick=\"convertToInteractive('df-0776903f-eaa7-4678-b7b0-b133e52c3320')\"\n",
              "              title=\"Convert this dataframe to an interactive table.\"\n",
              "              style=\"display:none;\">\n",
              "        \n",
              "  <svg xmlns=\"http://www.w3.org/2000/svg\" height=\"24px\"viewBox=\"0 0 24 24\"\n",
              "       width=\"24px\">\n",
              "    <path d=\"M0 0h24v24H0V0z\" fill=\"none\"/>\n",
              "    <path d=\"M18.56 5.44l.94 2.06.94-2.06 2.06-.94-2.06-.94-.94-2.06-.94 2.06-2.06.94zm-11 1L8.5 8.5l.94-2.06 2.06-.94-2.06-.94L8.5 2.5l-.94 2.06-2.06.94zm10 10l.94 2.06.94-2.06 2.06-.94-2.06-.94-.94-2.06-.94 2.06-2.06.94z\"/><path d=\"M17.41 7.96l-1.37-1.37c-.4-.4-.92-.59-1.43-.59-.52 0-1.04.2-1.43.59L10.3 9.45l-7.72 7.72c-.78.78-.78 2.05 0 2.83L4 21.41c.39.39.9.59 1.41.59.51 0 1.02-.2 1.41-.59l7.78-7.78 2.81-2.81c.8-.78.8-2.07 0-2.86zM5.41 20L4 18.59l7.72-7.72 1.47 1.35L5.41 20z\"/>\n",
              "  </svg>\n",
              "      </button>\n",
              "      \n",
              "  <style>\n",
              "    .colab-df-container {\n",
              "      display:flex;\n",
              "      flex-wrap:wrap;\n",
              "      gap: 12px;\n",
              "    }\n",
              "\n",
              "    .colab-df-convert {\n",
              "      background-color: #E8F0FE;\n",
              "      border: none;\n",
              "      border-radius: 50%;\n",
              "      cursor: pointer;\n",
              "      display: none;\n",
              "      fill: #1967D2;\n",
              "      height: 32px;\n",
              "      padding: 0 0 0 0;\n",
              "      width: 32px;\n",
              "    }\n",
              "\n",
              "    .colab-df-convert:hover {\n",
              "      background-color: #E2EBFA;\n",
              "      box-shadow: 0px 1px 2px rgba(60, 64, 67, 0.3), 0px 1px 3px 1px rgba(60, 64, 67, 0.15);\n",
              "      fill: #174EA6;\n",
              "    }\n",
              "\n",
              "    [theme=dark] .colab-df-convert {\n",
              "      background-color: #3B4455;\n",
              "      fill: #D2E3FC;\n",
              "    }\n",
              "\n",
              "    [theme=dark] .colab-df-convert:hover {\n",
              "      background-color: #434B5C;\n",
              "      box-shadow: 0px 1px 3px 1px rgba(0, 0, 0, 0.15);\n",
              "      filter: drop-shadow(0px 1px 2px rgba(0, 0, 0, 0.3));\n",
              "      fill: #FFFFFF;\n",
              "    }\n",
              "  </style>\n",
              "\n",
              "      <script>\n",
              "        const buttonEl =\n",
              "          document.querySelector('#df-0776903f-eaa7-4678-b7b0-b133e52c3320 button.colab-df-convert');\n",
              "        buttonEl.style.display =\n",
              "          google.colab.kernel.accessAllowed ? 'block' : 'none';\n",
              "\n",
              "        async function convertToInteractive(key) {\n",
              "          const element = document.querySelector('#df-0776903f-eaa7-4678-b7b0-b133e52c3320');\n",
              "          const dataTable =\n",
              "            await google.colab.kernel.invokeFunction('convertToInteractive',\n",
              "                                                     [key], {});\n",
              "          if (!dataTable) return;\n",
              "\n",
              "          const docLinkHtml = 'Like what you see? Visit the ' +\n",
              "            '<a target=\"_blank\" href=https://colab.research.google.com/notebooks/data_table.ipynb>data table notebook</a>'\n",
              "            + ' to learn more about interactive tables.';\n",
              "          element.innerHTML = '';\n",
              "          dataTable['output_type'] = 'display_data';\n",
              "          await google.colab.output.renderOutput(dataTable, element);\n",
              "          const docLink = document.createElement('div');\n",
              "          docLink.innerHTML = docLinkHtml;\n",
              "          element.appendChild(docLink);\n",
              "        }\n",
              "      </script>\n",
              "    </div>\n",
              "  </div>\n",
              "  "
            ],
            "text/plain": [
              "                        file_name  class     dir\n",
              "670     WBC-Malignant-Pre-459.jpg      3     Pre\n",
              "1030    WBC-Malignant-Pro-603.jpg      1     Pro\n",
              "2950           WBC-Benign-287.jpg      0  Benign\n",
              "1921  WBC-Malignant-Early-465.jpg      2   Early\n",
              "2066  WBC-Malignant-Early-697.jpg      2   Early"
            ]
          },
          "metadata": {},
          "execution_count": 5
        }
      ],
      "source": [
        "# convert to pandas data frame\n",
        "import pandas as pd\n",
        "from sklearn.utils import shuffle\n",
        "\n",
        "Train_Data_Frame = pd.DataFrame(DATA_DF, columns = [\"file_name\",\"class\",\"dir\"])\n",
        "\n",
        "Train_Data_Frame = shuffle(Train_Data_Frame)\n",
        "\n",
        "Train_Data_Frame.head()"
      ]
    },
    {
      "cell_type": "code",
      "execution_count": 6,
      "metadata": {
        "id": "6HCIhbulqy_x"
      },
      "outputs": [],
      "source": [
        "import numpy as np\n",
        "from keras.utils.np_utils import to_categorical\n",
        "y_data = np.array(to_categorical(Train_Data_Frame[\"class\"]))"
      ]
    },
    {
      "cell_type": "code",
      "execution_count": 7,
      "metadata": {
        "colab": {
          "base_uri": "https://localhost:8080/"
        },
        "id": "N5Z0XwjkvgXj",
        "outputId": "d2357f6e-2e29-4e0a-9b5a-57df24d5607d"
      },
      "outputs": [
        {
          "output_type": "stream",
          "name": "stdout",
          "text": [
            "[[0. 0. 0. 1.]\n",
            " [0. 1. 0. 0.]\n",
            " [1. 0. 0. 0.]\n",
            " [0. 0. 1. 0.]\n",
            " [0. 0. 1. 0.]]\n"
          ]
        }
      ],
      "source": [
        "print(y_data[:5])"
      ]
    },
    {
      "cell_type": "code",
      "execution_count": 8,
      "metadata": {
        "id": "1QhtH6Uw1OGh"
      },
      "outputs": [],
      "source": [
        "import time\n",
        "start = time.time()\n",
        "\n",
        "import numpy as np\n",
        "from tensorflow.keras.applications.resnet50 import ResNet50\n",
        "from tensorflow.python.keras.preprocessing import image\n",
        "from tensorflow.python.keras.models import Model\n",
        "import tensorflow as tf"
      ]
    },
    {
      "cell_type": "code",
      "source": [
        "from keras import backend as K\n",
        "\n",
        "def recall_m(y_true, y_pred):\n",
        "    true_positives = K.sum(K.round(K.clip(y_true * y_pred, 0, 1)))\n",
        "    possible_positives = K.sum(K.round(K.clip(y_true, 0, 1)))\n",
        "    recall = true_positives / (possible_positives + K.epsilon())\n",
        "    return recall\n",
        "\n",
        "def precision_m(y_true, y_pred):\n",
        "    true_positives = K.sum(K.round(K.clip(y_true * y_pred, 0, 1)))\n",
        "    predicted_positives = K.sum(K.round(K.clip(y_pred, 0, 1)))\n",
        "    precision = true_positives / (predicted_positives + K.epsilon())\n",
        "    return precision\n",
        "\n",
        "def f1_m(y_true, y_pred):\n",
        "    precision = precision_m(y_true, y_pred)\n",
        "    recall = recall_m(y_true, y_pred)\n",
        "    return 2*((precision*recall)/(precision+recall+K.epsilon()))"
      ],
      "metadata": {
        "id": "Ecnm8oMnf6CH"
      },
      "execution_count": 9,
      "outputs": []
    },
    {
      "cell_type": "code",
      "execution_count": 10,
      "metadata": {
        "id": "LeJnyZBJw98I"
      },
      "outputs": [],
      "source": [
        "model = tf.keras.models.Sequential([\n",
        "                                    \n",
        "\t\ttf.keras.layers.Conv2D(96, (7, 7), strides=(2, 2), activation='relu',\n",
        "\t\t\tinput_shape=(224, 224, 3)),\n",
        "\t\ttf.keras.layers.MaxPooling2D(3, strides=2),\n",
        "    tf.keras.layers.Lambda(lambda x: tf.image.per_image_standardization(x)),\n",
        "\n",
        "\t\ttf.keras.layers.Conv2D(256, (5, 5), strides=(2, 2), activation='relu'),\n",
        "\t\ttf.keras.layers.MaxPooling2D(3, strides=2),\n",
        "    tf.keras.layers.Lambda(lambda x: tf.image.per_image_standardization(x)),\n",
        "\n",
        "\t\ttf.keras.layers.Conv2D(384, (3, 3), activation='relu'),\n",
        "\n",
        "\t\ttf.keras.layers.Conv2D(384, (3, 3), activation='relu'),\n",
        "\n",
        "\t\ttf.keras.layers.Conv2D(256, (3, 3), activation='relu'),\n",
        "\n",
        "\t\ttf.keras.layers.MaxPooling2D(3, strides=2),\n",
        "\n",
        "    tf.keras.layers.Flatten(),\n",
        "\n",
        "\t\ttf.keras.layers.Dense(4096),\n",
        "\n",
        "\t\ttf.keras.layers.Dense(4096),\n",
        "\n",
        "\t\ttf.keras.layers.Dense(4, activation='softmax')\n",
        "\t])"
      ]
    },
    {
      "cell_type": "code",
      "source": [
        "model.compile(loss = \"categorical_crossentropy\",\n",
        "              optimizer = \"rmsprop\",\n",
        "              metrics = [\"accuracy\",tf.keras.metrics.Precision(), tf.keras.metrics.Recall(),f1_m,tf.keras.metrics.AUC()]\n",
        "              )"
      ],
      "metadata": {
        "id": "Y1oLZiIGfp_w"
      },
      "execution_count": 11,
      "outputs": []
    },
    {
      "cell_type": "code",
      "source": [
        "from tensorflow.keras.callbacks import EarlyStopping, ReduceLROnPlateau, TensorBoard, ModelCheckpoint\n",
        "\n",
        "reduce_lr = ReduceLROnPlateau(monitor='val_accuracy', factor=0.3, patience=3, min_denta=0.0001, mode='auto', verbose=1)\n",
        "\n",
        "# using tensorboard \n",
        "tensorboard = TensorBoard(log_dir='logs')\n",
        "\n",
        "# give location of file where you want to save model while trainng the model with 'cnn_classification.h5' name\n",
        "file_path = \"/content/drive/MyDrive/Colab Notebooks/ML/images_train_test_val/cnn_classification.h5\"\n",
        "# saves the best fitted model\n",
        "checkpoint = ModelCheckpoint(file_path, monitor='val_accuracy', save_best_only=True, mode='auto', verbose=1)"
      ],
      "metadata": {
        "id": "kmw2IH1df9oR"
      },
      "execution_count": 12,
      "outputs": []
    },
    {
      "cell_type": "code",
      "execution_count": 13,
      "metadata": {
        "colab": {
          "base_uri": "https://localhost:8080/"
        },
        "id": "nTJmX6f4q33W",
        "outputId": "550d8af6-81d2-4b0e-f408-751c25878e5c"
      },
      "outputs": [
        {
          "output_type": "stream",
          "name": "stderr",
          "text": [
            "100%|██████████| 3256/3256 [00:26<00:00, 120.80it/s]\n"
          ]
        }
      ],
      "source": [
        "import cv2\n",
        "from tqdm import tqdm\n",
        "x_data = []\n",
        "for rows in tqdm(range(len(Train_Data_Frame))):\n",
        "  get_file_name = Train_Data_Frame.iloc[rows]\n",
        "  img = cv2.imread(training_dir+'/'+get_file_name['dir']+'/'+get_file_name['file_name'])\n",
        "  stretch_near = cv2.resize(img, (224, 224),\n",
        "               interpolation = cv2.INTER_AREA)\n",
        "  x_data.append(stretch_near)\n",
        "\n",
        "\n"
      ]
    },
    {
      "cell_type": "markdown",
      "source": [
        "#### load data"
      ],
      "metadata": {
        "id": "xFFUXgYmgBBx"
      }
    },
    {
      "cell_type": "code",
      "execution_count": 14,
      "metadata": {
        "id": "JXpUKnxj0MUY"
      },
      "outputs": [],
      "source": [
        "from sklearn.model_selection import train_test_split\n",
        "x_train, x_test, y_train, y_test  = train_test_split(x_data,y_data,train_size=0.9,shuffle=True,random_state=42)"
      ]
    },
    {
      "cell_type": "code",
      "source": [
        "del x_data"
      ],
      "metadata": {
        "id": "HmPokJQgtudk"
      },
      "execution_count": 15,
      "outputs": []
    },
    {
      "cell_type": "code",
      "source": [
        "np.array(x_train).shape"
      ],
      "metadata": {
        "colab": {
          "base_uri": "https://localhost:8080/"
        },
        "id": "IlJ141Npq0JA",
        "outputId": "bb1e2dc8-6e46-431b-de81-b371614179a7"
      },
      "execution_count": 16,
      "outputs": [
        {
          "output_type": "execute_result",
          "data": {
            "text/plain": [
              "(2930, 224, 224, 3)"
            ]
          },
          "metadata": {},
          "execution_count": 16
        }
      ]
    },
    {
      "cell_type": "code",
      "source": [
        "y_train.shape"
      ],
      "metadata": {
        "colab": {
          "base_uri": "https://localhost:8080/"
        },
        "id": "QAkNKOIltcxX",
        "outputId": "83691ecf-d9fb-4fd8-c5d9-83282b626300"
      },
      "execution_count": 17,
      "outputs": [
        {
          "output_type": "execute_result",
          "data": {
            "text/plain": [
              "(2930, 4)"
            ]
          },
          "metadata": {},
          "execution_count": 17
        }
      ]
    },
    {
      "cell_type": "markdown",
      "metadata": {
        "id": "TIAgcnVhvFFj"
      },
      "source": [
        "### If there is seperate test folder\n",
        " "
      ]
    },
    {
      "cell_type": "code",
      "execution_count": 18,
      "metadata": {
        "id": "aR-rsXNf0UFu",
        "colab": {
          "base_uri": "https://localhost:8080/",
          "height": 128
        },
        "outputId": "c4c48975-f3e0-4df3-daff-f0c2b3910e14"
      },
      "outputs": [
        {
          "output_type": "execute_result",
          "data": {
            "application/vnd.google.colaboratory.intrinsic+json": {
              "type": "string"
            },
            "text/plain": [
              "'testing_dir = \"/content/drive/MyDrive/Colab Notebooks/Image Processing/kidney/Test_images\"\\nimg_dir_list = os.listdir(training_dir)\\nclass_names = {\\'Grade0\\': 0, \\'Grade1\\': 1, \\'Grade3\\': 2, \\'Grade4\\': 3, \\'Grade2\\': 4}\\n# list file address and class\\nDATA_DF = []\\nfor img_dir in img_dir_list:\\n  file_dir = os.listdir(testing_dir+\"/\"+img_dir)\\n  for file_name in file_dir:\\n    DATA_DF.append([file_name,class_names[img_dir],img_dir])\\n\\n# convert to pandas data frame\\nimport pandas as pd\\nfrom sklearn.utils import shuffle\\n\\nTest_Data_Frame = pd.DataFrame(DATA_DF, columns = [\"file_name\",\"class\",\"dir\"])\\n\\nTest_Data_Frame = shuffle(Test_Data_Frame)\\n\\nimport numpy as np\\nfrom keras.utils.np_utils import to_categorical\\ny_test_data = np.array(to_categorical(Test_Data_Frame[\"class\"]))\\n\\n'"
            ]
          },
          "metadata": {},
          "execution_count": 18
        }
      ],
      "source": [
        "'''testing_dir = \"/content/drive/MyDrive/Colab Notebooks/Image Processing/kidney/Test_images\"\n",
        "img_dir_list = os.listdir(training_dir)\n",
        "class_names = {'Grade0': 0, 'Grade1': 1, 'Grade3': 2, 'Grade4': 3, 'Grade2': 4}\n",
        "# list file address and class\n",
        "DATA_DF = []\n",
        "for img_dir in img_dir_list:\n",
        "  file_dir = os.listdir(testing_dir+\"/\"+img_dir)\n",
        "  for file_name in file_dir:\n",
        "    DATA_DF.append([file_name,class_names[img_dir],img_dir])\n",
        "\n",
        "# convert to pandas data frame\n",
        "import pandas as pd\n",
        "from sklearn.utils import shuffle\n",
        "\n",
        "Test_Data_Frame = pd.DataFrame(DATA_DF, columns = [\"file_name\",\"class\",\"dir\"])\n",
        "\n",
        "Test_Data_Frame = shuffle(Test_Data_Frame)\n",
        "\n",
        "import numpy as np\n",
        "from keras.utils.np_utils import to_categorical\n",
        "y_test_data = np.array(to_categorical(Test_Data_Frame[\"class\"]))\n",
        "\n",
        "'''"
      ]
    },
    {
      "cell_type": "code",
      "execution_count": 19,
      "metadata": {
        "id": "ea1S7bMO1SuF",
        "colab": {
          "base_uri": "https://localhost:8080/",
          "height": 91
        },
        "outputId": "5730e076-84b1-420d-cb9e-0a4e44d6204a"
      },
      "outputs": [
        {
          "output_type": "execute_result",
          "data": {
            "application/vnd.google.colaboratory.intrinsic+json": {
              "type": "string"
            },
            "text/plain": [
              "\"import cv2\\nfrom tqdm import tqdm\\nx_test_data = []\\nfor rows in tqdm(range(len(Test_Data_Frame))):\\n  get_file_name = Test_Data_Frame.iloc[rows]\\n  img = cv2.imread(testing_dir+'/'+get_file_name['dir']+'/'+get_file_name['file_name'])\\n  stretch_near = cv2.resize(img, (224, 224),\\n               interpolation = cv2.INTER_AREA)\\n  features = model.predict(stretch_near.reshape(1,224,224,3))\\n  features = features.reshape(2048,)\\n  x_test_data.append(features)\""
            ]
          },
          "metadata": {},
          "execution_count": 19
        }
      ],
      "source": [
        "'''import cv2\n",
        "from tqdm import tqdm\n",
        "x_test_data = []\n",
        "for rows in tqdm(range(len(Test_Data_Frame))):\n",
        "  get_file_name = Test_Data_Frame.iloc[rows]\n",
        "  img = cv2.imread(testing_dir+'/'+get_file_name['dir']+'/'+get_file_name['file_name'])\n",
        "  stretch_near = cv2.resize(img, (224, 224),\n",
        "               interpolation = cv2.INTER_AREA)\n",
        "  features = model.predict(stretch_near.reshape(1,224,224,3))\n",
        "  features = features.reshape(2048,)\n",
        "  x_test_data.append(features)'''"
      ]
    },
    {
      "cell_type": "code",
      "execution_count": 20,
      "metadata": {
        "id": "pFXanNuJ1x02",
        "colab": {
          "base_uri": "https://localhost:8080/",
          "height": 36
        },
        "outputId": "d99a7c18-a2ca-4b13-8ca0-934930c8e7b5"
      },
      "outputs": [
        {
          "output_type": "execute_result",
          "data": {
            "application/vnd.google.colaboratory.intrinsic+json": {
              "type": "string"
            },
            "text/plain": [
              "'x_test, y_test = x_test_data, y_test_data'"
            ]
          },
          "metadata": {},
          "execution_count": 20
        }
      ],
      "source": [
        "'''x_test, y_test = x_test_data, y_test_data'''"
      ]
    },
    {
      "cell_type": "code",
      "execution_count": 21,
      "metadata": {
        "id": "AD9nLDoevgmc",
        "colab": {
          "base_uri": "https://localhost:8080/",
          "height": 36
        },
        "outputId": "65c8782e-289c-4180-d950-64c0652ca1f6"
      },
      "outputs": [
        {
          "output_type": "execute_result",
          "data": {
            "application/vnd.google.colaboratory.intrinsic+json": {
              "type": "string"
            },
            "text/plain": [
              "'x_train,y_train = x_data, y_data'"
            ]
          },
          "metadata": {},
          "execution_count": 21
        }
      ],
      "source": [
        "'''x_train,y_train = x_data, y_data'''"
      ]
    },
    {
      "cell_type": "code",
      "execution_count": 22,
      "metadata": {
        "id": "4TaQSWAhrDMV"
      },
      "outputs": [],
      "source": [
        "#from sklearn.model_selection import train_test_split\n",
        "\n",
        "#x_train, x_test, y_train, y_test = train_test_split(x_data, y_data, test_size=0.15, random_state=42)\n"
      ]
    },
    {
      "cell_type": "markdown",
      "metadata": {
        "id": "cXi9cO7fZvJf"
      },
      "source": [
        "#### Model Training \n"
      ]
    },
    {
      "cell_type": "code",
      "execution_count": null,
      "metadata": {
        "id": "sCDgBpBKzIR5",
        "colab": {
          "base_uri": "https://localhost:8080/"
        },
        "outputId": "573e95b4-970d-4444-fbf4-8b8a7a760fa3"
      },
      "outputs": [
        {
          "output_type": "stream",
          "name": "stdout",
          "text": [
            "Epoch 1/50\n",
            "18/59 [========>.....................] - ETA: 3:53 - loss: 601.6324 - accuracy: 0.2533 - precision: 0.2553 - recall: 0.2411 - f1_m: 0.2411 - auc: 0.4998"
          ]
        }
      ],
      "source": [
        "# we are using batch size of 50\n",
        "img_batch_size = 50\n",
        "\n",
        "hist = model.fit(np.array(x_train),y_train,epochs = 50,validation_data=(np.array(x_test),y_test),batch_size=img_batch_size,callbacks=[tensorboard, checkpoint, reduce_lr])"
      ]
    },
    {
      "cell_type": "code",
      "execution_count": null,
      "metadata": {
        "id": "7TWrRMjVpW8v"
      },
      "outputs": [],
      "source": [
        "import matplotlib.pyplot as plt\n",
        "print(hist.history.keys())\n",
        "plt.figure(figsize=(15,10))\n",
        "plt.plot(hist.history[\"loss\"],label = \"training loss\")\n",
        "plt.plot(hist.history[\"val_loss\"],label = \"validation loss\")\n",
        "plt.title(\"Training Loss & Validation Loss\")\n",
        "plt.xlabel(\"Epoch\")\n",
        "plt.ylabel(\"Loss\")\n",
        "plt.legend()\n",
        "plt.show()\n",
        "\n",
        "plt.figure(figsize=(15,10))\n",
        "plt.plot(hist.history[\"accuracy\"],label = \"training acc\")\n",
        "plt.plot(hist.history[\"val_accuracy\"],label = \"validation acc\")\n",
        "plt.title(\"Training Accuracy & Validation Accuracy\")\n",
        "plt.xlabel(\"Accuracy\")\n",
        "plt.ylabel(\"Accuracy\")\n",
        "plt.legend()\n",
        "plt.show()"
      ]
    }
  ],
  "metadata": {
    "colab": {
      "name": "image_processing_ZFNet(1).ipynb",
      "provenance": []
    },
    "kernelspec": {
      "display_name": "Python 3",
      "name": "python3"
    },
    "language_info": {
      "name": "python"
    }
  },
  "nbformat": 4,
  "nbformat_minor": 0
}